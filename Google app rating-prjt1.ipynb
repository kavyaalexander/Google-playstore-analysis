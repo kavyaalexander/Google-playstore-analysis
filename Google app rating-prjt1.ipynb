{
 "cells": [
  {
   "cell_type": "markdown",
   "metadata": {},
   "source": [
    "# Overview:\n",
    "This is the dataset of “Google play store” formerly Android Market, is a digital distribution service operated and developed    by Google. The dataset contains 10841 rows and 13 columns with details of Android applications available on Google Play     store, Category, Rating, Reviews, Type, price, size, installs, genres, last update, Current version & Android version. \n",
    "\n"
   ]
  },
  {
   "cell_type": "markdown",
   "metadata": {},
   "source": [
    "#  Import  packages"
   ]
  },
  {
   "cell_type": "code",
   "execution_count": 1,
   "metadata": {},
   "outputs": [],
   "source": [
    "import pandas as pd\n",
    "import numpy as np\n",
    "import matplotlib.pyplot as plt\n",
    "import seaborn as sns\n",
    "from sklearn.preprocessing import LabelEncoder"
   ]
  },
  {
   "cell_type": "markdown",
   "metadata": {},
   "source": [
    "# Read data"
   ]
  },
  {
   "cell_type": "code",
   "execution_count": 2,
   "metadata": {},
   "outputs": [
    {
     "data": {
      "text/html": [
       "<div>\n",
       "<style scoped>\n",
       "    .dataframe tbody tr th:only-of-type {\n",
       "        vertical-align: middle;\n",
       "    }\n",
       "\n",
       "    .dataframe tbody tr th {\n",
       "        vertical-align: top;\n",
       "    }\n",
       "\n",
       "    .dataframe thead th {\n",
       "        text-align: right;\n",
       "    }\n",
       "</style>\n",
       "<table border=\"1\" class=\"dataframe\">\n",
       "  <thead>\n",
       "    <tr style=\"text-align: right;\">\n",
       "      <th></th>\n",
       "      <th>App</th>\n",
       "      <th>Category</th>\n",
       "      <th>Rating</th>\n",
       "      <th>Reviews</th>\n",
       "      <th>Size</th>\n",
       "      <th>Installs</th>\n",
       "      <th>Type</th>\n",
       "      <th>Price</th>\n",
       "      <th>Content Rating</th>\n",
       "      <th>Genres</th>\n",
       "      <th>Last Updated</th>\n",
       "      <th>Current Ver</th>\n",
       "      <th>Android Ver</th>\n",
       "    </tr>\n",
       "  </thead>\n",
       "  <tbody>\n",
       "    <tr>\n",
       "      <th>0</th>\n",
       "      <td>Photo Editor &amp; Candy Camera &amp; Grid &amp; ScrapBook</td>\n",
       "      <td>ART_AND_DESIGN</td>\n",
       "      <td>4.1</td>\n",
       "      <td>159</td>\n",
       "      <td>19M</td>\n",
       "      <td>10,000+</td>\n",
       "      <td>Free</td>\n",
       "      <td>0</td>\n",
       "      <td>Everyone</td>\n",
       "      <td>Art &amp; Design</td>\n",
       "      <td>January 7, 2018</td>\n",
       "      <td>1.0.0</td>\n",
       "      <td>4.0.3 and up</td>\n",
       "    </tr>\n",
       "    <tr>\n",
       "      <th>1</th>\n",
       "      <td>Coloring book moana</td>\n",
       "      <td>ART_AND_DESIGN</td>\n",
       "      <td>3.9</td>\n",
       "      <td>967</td>\n",
       "      <td>14M</td>\n",
       "      <td>500,000+</td>\n",
       "      <td>Free</td>\n",
       "      <td>0</td>\n",
       "      <td>Everyone</td>\n",
       "      <td>Art &amp; Design;Pretend Play</td>\n",
       "      <td>January 15, 2018</td>\n",
       "      <td>2.0.0</td>\n",
       "      <td>4.0.3 and up</td>\n",
       "    </tr>\n",
       "    <tr>\n",
       "      <th>2</th>\n",
       "      <td>U Launcher Lite – FREE Live Cool Themes, Hide ...</td>\n",
       "      <td>ART_AND_DESIGN</td>\n",
       "      <td>4.7</td>\n",
       "      <td>87510</td>\n",
       "      <td>8.7M</td>\n",
       "      <td>5,000,000+</td>\n",
       "      <td>Free</td>\n",
       "      <td>0</td>\n",
       "      <td>Everyone</td>\n",
       "      <td>Art &amp; Design</td>\n",
       "      <td>August 1, 2018</td>\n",
       "      <td>1.2.4</td>\n",
       "      <td>4.0.3 and up</td>\n",
       "    </tr>\n",
       "    <tr>\n",
       "      <th>3</th>\n",
       "      <td>Sketch - Draw &amp; Paint</td>\n",
       "      <td>ART_AND_DESIGN</td>\n",
       "      <td>4.5</td>\n",
       "      <td>215644</td>\n",
       "      <td>25M</td>\n",
       "      <td>50,000,000+</td>\n",
       "      <td>Free</td>\n",
       "      <td>0</td>\n",
       "      <td>Teen</td>\n",
       "      <td>Art &amp; Design</td>\n",
       "      <td>June 8, 2018</td>\n",
       "      <td>Varies with device</td>\n",
       "      <td>4.2 and up</td>\n",
       "    </tr>\n",
       "    <tr>\n",
       "      <th>4</th>\n",
       "      <td>Pixel Draw - Number Art Coloring Book</td>\n",
       "      <td>ART_AND_DESIGN</td>\n",
       "      <td>4.3</td>\n",
       "      <td>967</td>\n",
       "      <td>2.8M</td>\n",
       "      <td>100,000+</td>\n",
       "      <td>Free</td>\n",
       "      <td>0</td>\n",
       "      <td>Everyone</td>\n",
       "      <td>Art &amp; Design;Creativity</td>\n",
       "      <td>June 20, 2018</td>\n",
       "      <td>1.1</td>\n",
       "      <td>4.4 and up</td>\n",
       "    </tr>\n",
       "    <tr>\n",
       "      <th>...</th>\n",
       "      <td>...</td>\n",
       "      <td>...</td>\n",
       "      <td>...</td>\n",
       "      <td>...</td>\n",
       "      <td>...</td>\n",
       "      <td>...</td>\n",
       "      <td>...</td>\n",
       "      <td>...</td>\n",
       "      <td>...</td>\n",
       "      <td>...</td>\n",
       "      <td>...</td>\n",
       "      <td>...</td>\n",
       "      <td>...</td>\n",
       "    </tr>\n",
       "    <tr>\n",
       "      <th>10836</th>\n",
       "      <td>Sya9a Maroc - FR</td>\n",
       "      <td>FAMILY</td>\n",
       "      <td>4.5</td>\n",
       "      <td>38</td>\n",
       "      <td>53M</td>\n",
       "      <td>5,000+</td>\n",
       "      <td>Free</td>\n",
       "      <td>0</td>\n",
       "      <td>Everyone</td>\n",
       "      <td>Education</td>\n",
       "      <td>July 25, 2017</td>\n",
       "      <td>1.48</td>\n",
       "      <td>4.1 and up</td>\n",
       "    </tr>\n",
       "    <tr>\n",
       "      <th>10837</th>\n",
       "      <td>Fr. Mike Schmitz Audio Teachings</td>\n",
       "      <td>FAMILY</td>\n",
       "      <td>5.0</td>\n",
       "      <td>4</td>\n",
       "      <td>3.6M</td>\n",
       "      <td>100+</td>\n",
       "      <td>Free</td>\n",
       "      <td>0</td>\n",
       "      <td>Everyone</td>\n",
       "      <td>Education</td>\n",
       "      <td>July 6, 2018</td>\n",
       "      <td>1.0</td>\n",
       "      <td>4.1 and up</td>\n",
       "    </tr>\n",
       "    <tr>\n",
       "      <th>10838</th>\n",
       "      <td>Parkinson Exercices FR</td>\n",
       "      <td>MEDICAL</td>\n",
       "      <td>NaN</td>\n",
       "      <td>3</td>\n",
       "      <td>9.5M</td>\n",
       "      <td>1,000+</td>\n",
       "      <td>Free</td>\n",
       "      <td>0</td>\n",
       "      <td>Everyone</td>\n",
       "      <td>Medical</td>\n",
       "      <td>January 20, 2017</td>\n",
       "      <td>1.0</td>\n",
       "      <td>2.2 and up</td>\n",
       "    </tr>\n",
       "    <tr>\n",
       "      <th>10839</th>\n",
       "      <td>The SCP Foundation DB fr nn5n</td>\n",
       "      <td>BOOKS_AND_REFERENCE</td>\n",
       "      <td>4.5</td>\n",
       "      <td>114</td>\n",
       "      <td>Varies with device</td>\n",
       "      <td>1,000+</td>\n",
       "      <td>Free</td>\n",
       "      <td>0</td>\n",
       "      <td>Mature 17+</td>\n",
       "      <td>Books &amp; Reference</td>\n",
       "      <td>January 19, 2015</td>\n",
       "      <td>Varies with device</td>\n",
       "      <td>Varies with device</td>\n",
       "    </tr>\n",
       "    <tr>\n",
       "      <th>10840</th>\n",
       "      <td>iHoroscope - 2018 Daily Horoscope &amp; Astrology</td>\n",
       "      <td>LIFESTYLE</td>\n",
       "      <td>4.5</td>\n",
       "      <td>398307</td>\n",
       "      <td>19M</td>\n",
       "      <td>10,000,000+</td>\n",
       "      <td>Free</td>\n",
       "      <td>0</td>\n",
       "      <td>Everyone</td>\n",
       "      <td>Lifestyle</td>\n",
       "      <td>July 25, 2018</td>\n",
       "      <td>Varies with device</td>\n",
       "      <td>Varies with device</td>\n",
       "    </tr>\n",
       "  </tbody>\n",
       "</table>\n",
       "<p>10841 rows × 13 columns</p>\n",
       "</div>"
      ],
      "text/plain": [
       "                                                     App             Category  \\\n",
       "0         Photo Editor & Candy Camera & Grid & ScrapBook       ART_AND_DESIGN   \n",
       "1                                    Coloring book moana       ART_AND_DESIGN   \n",
       "2      U Launcher Lite – FREE Live Cool Themes, Hide ...       ART_AND_DESIGN   \n",
       "3                                  Sketch - Draw & Paint       ART_AND_DESIGN   \n",
       "4                  Pixel Draw - Number Art Coloring Book       ART_AND_DESIGN   \n",
       "...                                                  ...                  ...   \n",
       "10836                                   Sya9a Maroc - FR               FAMILY   \n",
       "10837                   Fr. Mike Schmitz Audio Teachings               FAMILY   \n",
       "10838                             Parkinson Exercices FR              MEDICAL   \n",
       "10839                      The SCP Foundation DB fr nn5n  BOOKS_AND_REFERENCE   \n",
       "10840      iHoroscope - 2018 Daily Horoscope & Astrology            LIFESTYLE   \n",
       "\n",
       "       Rating Reviews                Size     Installs  Type Price  \\\n",
       "0         4.1     159                 19M      10,000+  Free     0   \n",
       "1         3.9     967                 14M     500,000+  Free     0   \n",
       "2         4.7   87510                8.7M   5,000,000+  Free     0   \n",
       "3         4.5  215644                 25M  50,000,000+  Free     0   \n",
       "4         4.3     967                2.8M     100,000+  Free     0   \n",
       "...       ...     ...                 ...          ...   ...   ...   \n",
       "10836     4.5      38                 53M       5,000+  Free     0   \n",
       "10837     5.0       4                3.6M         100+  Free     0   \n",
       "10838     NaN       3                9.5M       1,000+  Free     0   \n",
       "10839     4.5     114  Varies with device       1,000+  Free     0   \n",
       "10840     4.5  398307                 19M  10,000,000+  Free     0   \n",
       "\n",
       "      Content Rating                     Genres      Last Updated  \\\n",
       "0           Everyone               Art & Design   January 7, 2018   \n",
       "1           Everyone  Art & Design;Pretend Play  January 15, 2018   \n",
       "2           Everyone               Art & Design    August 1, 2018   \n",
       "3               Teen               Art & Design      June 8, 2018   \n",
       "4           Everyone    Art & Design;Creativity     June 20, 2018   \n",
       "...              ...                        ...               ...   \n",
       "10836       Everyone                  Education     July 25, 2017   \n",
       "10837       Everyone                  Education      July 6, 2018   \n",
       "10838       Everyone                    Medical  January 20, 2017   \n",
       "10839     Mature 17+          Books & Reference  January 19, 2015   \n",
       "10840       Everyone                  Lifestyle     July 25, 2018   \n",
       "\n",
       "              Current Ver         Android Ver  \n",
       "0                   1.0.0        4.0.3 and up  \n",
       "1                   2.0.0        4.0.3 and up  \n",
       "2                   1.2.4        4.0.3 and up  \n",
       "3      Varies with device          4.2 and up  \n",
       "4                     1.1          4.4 and up  \n",
       "...                   ...                 ...  \n",
       "10836                1.48          4.1 and up  \n",
       "10837                 1.0          4.1 and up  \n",
       "10838                 1.0          2.2 and up  \n",
       "10839  Varies with device  Varies with device  \n",
       "10840  Varies with device  Varies with device  \n",
       "\n",
       "[10841 rows x 13 columns]"
      ]
     },
     "execution_count": 2,
     "metadata": {},
     "output_type": "execute_result"
    }
   ],
   "source": [
    "df=pd.read_csv(\"googleplaystore.csv\")\n",
    "df"
   ]
  },
  {
   "cell_type": "markdown",
   "metadata": {},
   "source": [
    "# Shape"
   ]
  },
  {
   "cell_type": "code",
   "execution_count": 3,
   "metadata": {},
   "outputs": [
    {
     "data": {
      "text/plain": [
       "(10841, 13)"
      ]
     },
     "execution_count": 3,
     "metadata": {},
     "output_type": "execute_result"
    }
   ],
   "source": [
    "df.shape"
   ]
  },
  {
   "cell_type": "markdown",
   "metadata": {},
   "source": [
    "# Columns"
   ]
  },
  {
   "cell_type": "code",
   "execution_count": 4,
   "metadata": {},
   "outputs": [
    {
     "data": {
      "text/plain": [
       "Index(['App', 'Category', 'Rating', 'Reviews', 'Size', 'Installs', 'Type',\n",
       "       'Price', 'Content Rating', 'Genres', 'Last Updated', 'Current Ver',\n",
       "       'Android Ver'],\n",
       "      dtype='object')"
      ]
     },
     "execution_count": 4,
     "metadata": {},
     "output_type": "execute_result"
    }
   ],
   "source": [
    "df.columns"
   ]
  },
  {
   "cell_type": "markdown",
   "metadata": {},
   "source": [
    "# Find Null values in dataset & drop it."
   ]
  },
  {
   "cell_type": "code",
   "execution_count": 5,
   "metadata": {},
   "outputs": [
    {
     "data": {
      "text/plain": [
       "App                  0\n",
       "Category             0\n",
       "Rating            1474\n",
       "Reviews              0\n",
       "Size                 0\n",
       "Installs             0\n",
       "Type                 1\n",
       "Price                0\n",
       "Content Rating       1\n",
       "Genres               0\n",
       "Last Updated         0\n",
       "Current Ver          8\n",
       "Android Ver          3\n",
       "dtype: int64"
      ]
     },
     "execution_count": 5,
     "metadata": {},
     "output_type": "execute_result"
    }
   ],
   "source": [
    "df.isnull().sum()"
   ]
  },
  {
   "cell_type": "code",
   "execution_count": 6,
   "metadata": {},
   "outputs": [
    {
     "data": {
      "text/plain": [
       "App               0\n",
       "Category          0\n",
       "Rating            0\n",
       "Reviews           0\n",
       "Size              0\n",
       "Installs          0\n",
       "Type              0\n",
       "Price             0\n",
       "Content Rating    0\n",
       "Genres            0\n",
       "Last Updated      0\n",
       "Current Ver       0\n",
       "Android Ver       0\n",
       "dtype: int64"
      ]
     },
     "execution_count": 6,
     "metadata": {},
     "output_type": "execute_result"
    }
   ],
   "source": [
    "df.dropna(inplace=True)\n",
    "df.isnull().sum()"
   ]
  },
  {
   "cell_type": "code",
   "execution_count": 7,
   "metadata": {},
   "outputs": [
    {
     "data": {
      "text/plain": [
       "(9360, 13)"
      ]
     },
     "execution_count": 7,
     "metadata": {},
     "output_type": "execute_result"
    }
   ],
   "source": [
    "df.shape"
   ]
  },
  {
   "cell_type": "markdown",
   "metadata": {},
   "source": [
    "\n",
    "\n",
    "# Print information & summary."
   ]
  },
  {
   "cell_type": "code",
   "execution_count": 8,
   "metadata": {},
   "outputs": [
    {
     "data": {
      "text/html": [
       "<div>\n",
       "<style scoped>\n",
       "    .dataframe tbody tr th:only-of-type {\n",
       "        vertical-align: middle;\n",
       "    }\n",
       "\n",
       "    .dataframe tbody tr th {\n",
       "        vertical-align: top;\n",
       "    }\n",
       "\n",
       "    .dataframe thead th {\n",
       "        text-align: right;\n",
       "    }\n",
       "</style>\n",
       "<table border=\"1\" class=\"dataframe\">\n",
       "  <thead>\n",
       "    <tr style=\"text-align: right;\">\n",
       "      <th></th>\n",
       "      <th>Rating</th>\n",
       "    </tr>\n",
       "  </thead>\n",
       "  <tbody>\n",
       "    <tr>\n",
       "      <th>count</th>\n",
       "      <td>9360.000000</td>\n",
       "    </tr>\n",
       "    <tr>\n",
       "      <th>mean</th>\n",
       "      <td>4.191838</td>\n",
       "    </tr>\n",
       "    <tr>\n",
       "      <th>std</th>\n",
       "      <td>0.515263</td>\n",
       "    </tr>\n",
       "    <tr>\n",
       "      <th>min</th>\n",
       "      <td>1.000000</td>\n",
       "    </tr>\n",
       "    <tr>\n",
       "      <th>25%</th>\n",
       "      <td>4.000000</td>\n",
       "    </tr>\n",
       "    <tr>\n",
       "      <th>50%</th>\n",
       "      <td>4.300000</td>\n",
       "    </tr>\n",
       "    <tr>\n",
       "      <th>75%</th>\n",
       "      <td>4.500000</td>\n",
       "    </tr>\n",
       "    <tr>\n",
       "      <th>max</th>\n",
       "      <td>5.000000</td>\n",
       "    </tr>\n",
       "  </tbody>\n",
       "</table>\n",
       "</div>"
      ],
      "text/plain": [
       "            Rating\n",
       "count  9360.000000\n",
       "mean      4.191838\n",
       "std       0.515263\n",
       "min       1.000000\n",
       "25%       4.000000\n",
       "50%       4.300000\n",
       "75%       4.500000\n",
       "max       5.000000"
      ]
     },
     "execution_count": 8,
     "metadata": {},
     "output_type": "execute_result"
    }
   ],
   "source": [
    "df.describe()"
   ]
  },
  {
   "cell_type": "markdown",
   "metadata": {},
   "source": [
    "# Display data types for each feature."
   ]
  },
  {
   "cell_type": "code",
   "execution_count": 9,
   "metadata": {},
   "outputs": [
    {
     "data": {
      "text/plain": [
       "App                object\n",
       "Category           object\n",
       "Rating            float64\n",
       "Reviews            object\n",
       "Size               object\n",
       "Installs           object\n",
       "Type               object\n",
       "Price              object\n",
       "Content Rating     object\n",
       "Genres             object\n",
       "Last Updated       object\n",
       "Current Ver        object\n",
       "Android Ver        object\n",
       "dtype: object"
      ]
     },
     "execution_count": 9,
     "metadata": {},
     "output_type": "execute_result"
    }
   ],
   "source": [
    "df.dtypes"
   ]
  },
  {
   "cell_type": "markdown",
   "metadata": {},
   "source": [
    "# Convert to numeric data set.\n",
    " # - For analysis we need to convert Reviews,Type,price,Installs,Size,Current Ver & Android Ver"
   ]
  },
  {
   "cell_type": "code",
   "execution_count": 10,
   "metadata": {
    "scrolled": true
   },
   "outputs": [
    {
     "data": {
      "text/plain": [
       "dtype('int64')"
      ]
     },
     "execution_count": 10,
     "metadata": {},
     "output_type": "execute_result"
    }
   ],
   "source": [
    "le1=LabelEncoder()\n",
    "df.Reviews = df.Reviews.astype('int64')\n",
    "df[\"Reviews\"].dtype\n"
   ]
  },
  {
   "cell_type": "code",
   "execution_count": 11,
   "metadata": {},
   "outputs": [
    {
     "data": {
      "text/plain": [
       "dtype('float64')"
      ]
     },
     "execution_count": 11,
     "metadata": {},
     "output_type": "execute_result"
    }
   ],
   "source": [
    "df['Size'] = df['Size'].replace('Varies with device', np.nan)\n",
    "df['Size'] = df['Size'].apply(lambda x: str(x).replace('M', '') if 'M' in str(x) else str(x))\n",
    "df['Size'] = df['Size'].apply(lambda x: str(x).replace('k', '') if 'k' in str(x) else str(x))\n",
    "df['Size'] = df['Size'].apply(lambda x: str(x).replace(\"1,000+\", '1000') if \"1,000+\" in str(x) else str(x))\n",
    "df['Size'] = df['Size'].apply(lambda x: float(x))\n",
    "\n",
    "df[\"Size\"].dtype"
   ]
  },
  {
   "cell_type": "code",
   "execution_count": 12,
   "metadata": {},
   "outputs": [
    {
     "data": {
      "text/plain": [
       "array(['10,000+', '500,000+', '5,000,000+', '50,000,000+', '100,000+',\n",
       "       '50,000+', '1,000,000+', '10,000,000+', '5,000+', '100,000,000+',\n",
       "       '1,000,000,000+', '1,000+', '500,000,000+', '100+', '500+', '10+',\n",
       "       '5+', '50+', '1+'], dtype=object)"
      ]
     },
     "execution_count": 12,
     "metadata": {},
     "output_type": "execute_result"
    }
   ],
   "source": [
    "df['Installs'].unique()"
   ]
  },
  {
   "cell_type": "code",
   "execution_count": 13,
   "metadata": {},
   "outputs": [
    {
     "data": {
      "text/plain": [
       "dtype('float64')"
      ]
     },
     "execution_count": 13,
     "metadata": {},
     "output_type": "execute_result"
    }
   ],
   "source": [
    "df['Installs'] = df['Installs'].apply(lambda x: str(x).replace('+', '0') if '+' in str(x) else str(x))\n",
    "df['Installs'] = df['Installs'].apply(lambda x: str(x).replace(',', '0') if ',' in str(x) else str(x))\n",
    "df['Installs'] = df['Installs'].apply(lambda x: float(x))\n",
    "df['Installs'].dtype"
   ]
  },
  {
   "cell_type": "code",
   "execution_count": 14,
   "metadata": {},
   "outputs": [
    {
     "data": {
      "text/plain": [
       "dtype('int32')"
      ]
     },
     "execution_count": 14,
     "metadata": {},
     "output_type": "execute_result"
    }
   ],
   "source": [
    "df[\"Type\"]=le1.fit_transform(df[\"Type\"])#free=0,paid=1\n",
    "df[\"Type\"].dtype"
   ]
  },
  {
   "cell_type": "code",
   "execution_count": 15,
   "metadata": {},
   "outputs": [
    {
     "data": {
      "text/plain": [
       "dtype('float64')"
      ]
     },
     "execution_count": 15,
     "metadata": {},
     "output_type": "execute_result"
    }
   ],
   "source": [
    "df['Price'] = df['Price'].apply(lambda x: str(x).replace('$', '') )\n",
    "df['Price'] = df['Price'].replace('Everyone', np.nan)\n",
    "df['Price'] = df['Price'].apply(lambda x: float(x))\n",
    "df['Price'].dtype"
   ]
  },
  {
   "cell_type": "code",
   "execution_count": 16,
   "metadata": {},
   "outputs": [
    {
     "data": {
      "text/plain": [
       "array(['1.0.0', '2.0.0', '1.2.4', ..., '1.5.447', '1.0.612928', '0.3.4'],\n",
       "      dtype=object)"
      ]
     },
     "execution_count": 16,
     "metadata": {},
     "output_type": "execute_result"
    }
   ],
   "source": [
    "df[\"Current Ver\"].unique()"
   ]
  },
  {
   "cell_type": "code",
   "execution_count": 17,
   "metadata": {},
   "outputs": [],
   "source": [
    "df[\"Current Ver\"]=le1.fit_transform(df[\"Current Ver\"])"
   ]
  },
  {
   "cell_type": "code",
   "execution_count": 18,
   "metadata": {},
   "outputs": [
    {
     "data": {
      "text/plain": [
       "array(['4.0.3 and up', '4.2 and up', '4.4 and up', '2.3 and up',\n",
       "       '3.0 and up', '4.1 and up', '4.0 and up', '2.3.3 and up',\n",
       "       'Varies with device', '2.2 and up', '5.0 and up', '6.0 and up',\n",
       "       '1.6 and up', '1.5 and up', '2.1 and up', '7.0 and up',\n",
       "       '4.3 and up', '4.0.3 - 7.1.1', '2.0 and up', '3.2 and up',\n",
       "       '4.4W and up', '5.1 and up', '7.1 and up', '7.0 - 7.1.1',\n",
       "       '8.0 and up', '5.0 - 8.0', '3.1 and up', '2.0.1 and up',\n",
       "       '4.1 - 7.1.1', '5.0 - 6.0', '1.0 and up'], dtype=object)"
      ]
     },
     "execution_count": 18,
     "metadata": {},
     "output_type": "execute_result"
    }
   ],
   "source": [
    "df[\"Android Ver\"].unique()"
   ]
  },
  {
   "cell_type": "code",
   "execution_count": 19,
   "metadata": {},
   "outputs": [
    {
     "data": {
      "text/plain": [
       "4.0    5856\n",
       "0.0    1319\n",
       "2.0    1177\n",
       "5.0     556\n",
       "3.0     250\n",
       "1.0     104\n",
       "6.0      48\n",
       "7.0      45\n",
       "8.0       5\n",
       "Name: Android Ver, dtype: int64"
      ]
     },
     "execution_count": 19,
     "metadata": {},
     "output_type": "execute_result"
    }
   ],
   "source": [
    "newVer = []\n",
    "\n",
    "for row in df['Android Ver']:\n",
    "    try:\n",
    "        newrow = float(row[:2])\n",
    "    except:\n",
    "        newrow = 0  # When the value is - Varies with device\n",
    "    \n",
    "    newVer.append(newrow)\n",
    "    \n",
    "df['Android Ver'] =  newVer\n",
    "\n",
    "df['Android Ver'].value_counts()"
   ]
  },
  {
   "cell_type": "code",
   "execution_count": 20,
   "metadata": {},
   "outputs": [
    {
     "data": {
      "text/plain": [
       "App                object\n",
       "Category           object\n",
       "Rating            float64\n",
       "Reviews             int64\n",
       "Size              float64\n",
       "Installs          float64\n",
       "Type                int32\n",
       "Price             float64\n",
       "Content Rating     object\n",
       "Genres             object\n",
       "Last Updated       object\n",
       "Current Ver         int32\n",
       "Android Ver       float64\n",
       "dtype: object"
      ]
     },
     "execution_count": 20,
     "metadata": {},
     "output_type": "execute_result"
    }
   ],
   "source": [
    "df.dtypes"
   ]
  },
  {
   "cell_type": "markdown",
   "metadata": {},
   "source": [
    "# Show counts of all the Categories & display in bar graph."
   ]
  },
  {
   "cell_type": "code",
   "execution_count": 21,
   "metadata": {},
   "outputs": [
    {
     "data": {
      "text/plain": [
       "FAMILY                 1746\n",
       "GAME                   1097\n",
       "TOOLS                   733\n",
       "PRODUCTIVITY            351\n",
       "MEDICAL                 350\n",
       "COMMUNICATION           328\n",
       "FINANCE                 323\n",
       "SPORTS                  319\n",
       "PHOTOGRAPHY             317\n",
       "LIFESTYLE               314\n",
       "PERSONALIZATION         312\n",
       "BUSINESS                303\n",
       "HEALTH_AND_FITNESS      297\n",
       "SOCIAL                  259\n",
       "SHOPPING                238\n",
       "NEWS_AND_MAGAZINES      233\n",
       "TRAVEL_AND_LOCAL        226\n",
       "DATING                  195\n",
       "BOOKS_AND_REFERENCE     178\n",
       "VIDEO_PLAYERS           160\n",
       "EDUCATION               155\n",
       "ENTERTAINMENT           149\n",
       "MAPS_AND_NAVIGATION     124\n",
       "FOOD_AND_DRINK          109\n",
       "HOUSE_AND_HOME           76\n",
       "WEATHER                  75\n",
       "AUTO_AND_VEHICLES        73\n",
       "LIBRARIES_AND_DEMO       64\n",
       "ART_AND_DESIGN           61\n",
       "COMICS                   58\n",
       "PARENTING                50\n",
       "EVENTS                   45\n",
       "BEAUTY                   42\n",
       "Name: Category, dtype: int64"
      ]
     },
     "execution_count": 21,
     "metadata": {},
     "output_type": "execute_result"
    }
   ],
   "source": [
    "df.Category.value_counts()"
   ]
  },
  {
   "cell_type": "code",
   "execution_count": 22,
   "metadata": {},
   "outputs": [
    {
     "data": {
      "image/png": "[encoded data removed]",
      "text/plain": [
       "<Figure size 1008x360 with 1 Axes>"
      ]
     },
     "metadata": {
      "needs_background": "light"
     },
     "output_type": "display_data"
    }
   ],
   "source": [
    "df.Category.value_counts().plot(kind=\"bar\",title=\"Category in Play Store\",figsize= (14,5),color=[\"Red\",\"green\",\"blue\",\"yellow\",\"brown\",\"pink\"])\n",
    "plt.ylabel(\"Values\")\n",
    "plt.xlabel(\"Category\")\n",
    "\n",
    "plt.show()\n",
    "\n"
   ]
  },
  {
   "cell_type": "raw",
   "metadata": {},
   "source": [
    "# - Note:Max. No. of apps are from Family & Games"
   ]
  },
  {
   "cell_type": "markdown",
   "metadata": {},
   "source": [
    "# Type"
   ]
  },
  {
   "cell_type": "markdown",
   "metadata": {},
   "source": [
    "# How many of the apps are free & paid in play store, and show on pie chart."
   ]
  },
  {
   "cell_type": "code",
   "execution_count": 23,
   "metadata": {},
   "outputs": [
    {
     "data": {
      "text/plain": [
       "0    8715\n",
       "1     645\n",
       "Name: Type, dtype: int64"
      ]
     },
     "execution_count": 23,
     "metadata": {},
     "output_type": "execute_result"
    }
   ],
   "source": [
    "df.Type.value_counts()"
   ]
  },
  {
   "cell_type": "code",
   "execution_count": 24,
   "metadata": {},
   "outputs": [
    {
     "data": {
      "image/png": "[encoded data removed]",
      "text/plain": [
       "<Figure size 432x288 with 1 Axes>"
      ]
     },
     "metadata": {},
     "output_type": "display_data"
    }
   ],
   "source": [
    "df.Type.value_counts().plot(kind=\"pie\",labels=[\"Free\",\"Paid\"],colors=[\"blue\",\"red\"],autopct='%0.1f%%')\n",
    "plt.title(\"Free & Paid apps\")\n",
    "plt.legend(loc=\"upper right\")\n",
    "plt.show()"
   ]
  },
  {
   "cell_type": "raw",
   "metadata": {},
   "source": [
    "# 93.1% of the apps are free in google play store"
   ]
  },
  {
   "cell_type": "markdown",
   "metadata": {},
   "source": [
    "# Find the most costly app in playstore."
   ]
  },
  {
   "cell_type": "code",
   "execution_count": 25,
   "metadata": {},
   "outputs": [
    {
     "data": {
      "text/html": [
       "<div>\n",
       "<style scoped>\n",
       "    .dataframe tbody tr th:only-of-type {\n",
       "        vertical-align: middle;\n",
       "    }\n",
       "\n",
       "    .dataframe tbody tr th {\n",
       "        vertical-align: top;\n",
       "    }\n",
       "\n",
       "    .dataframe thead th {\n",
       "        text-align: right;\n",
       "    }\n",
       "</style>\n",
       "<table border=\"1\" class=\"dataframe\">\n",
       "  <thead>\n",
       "    <tr style=\"text-align: right;\">\n",
       "      <th></th>\n",
       "      <th>App</th>\n",
       "      <th>Category</th>\n",
       "      <th>Rating</th>\n",
       "      <th>Reviews</th>\n",
       "      <th>Size</th>\n",
       "      <th>Installs</th>\n",
       "      <th>Type</th>\n",
       "      <th>Price</th>\n",
       "      <th>Content Rating</th>\n",
       "      <th>Genres</th>\n",
       "      <th>Last Updated</th>\n",
       "      <th>Current Ver</th>\n",
       "      <th>Android Ver</th>\n",
       "    </tr>\n",
       "  </thead>\n",
       "  <tbody>\n",
       "    <tr>\n",
       "      <th>4367</th>\n",
       "      <td>I'm Rich - Trump Edition</td>\n",
       "      <td>LIFESTYLE</td>\n",
       "      <td>3.6</td>\n",
       "      <td>275</td>\n",
       "      <td>7.3</td>\n",
       "      <td>1000000.0</td>\n",
       "      <td>1</td>\n",
       "      <td>400.0</td>\n",
       "      <td>Everyone</td>\n",
       "      <td>Lifestyle</td>\n",
       "      <td>May 3, 2018</td>\n",
       "      <td>127</td>\n",
       "      <td>4.0</td>\n",
       "    </tr>\n",
       "  </tbody>\n",
       "</table>\n",
       "</div>"
      ],
      "text/plain": [
       "                           App   Category  Rating  Reviews  Size   Installs  \\\n",
       "4367  I'm Rich - Trump Edition  LIFESTYLE     3.6      275   7.3  1000000.0   \n",
       "\n",
       "      Type  Price Content Rating     Genres Last Updated  Current Ver  \\\n",
       "4367     1  400.0       Everyone  Lifestyle  May 3, 2018          127   \n",
       "\n",
       "      Android Ver  \n",
       "4367          4.0  "
      ]
     },
     "execution_count": 25,
     "metadata": {},
     "output_type": "execute_result"
    }
   ],
   "source": [
    "df[df.Price == df.Price.max()]"
   ]
  },
  {
   "cell_type": "raw",
   "metadata": {},
   "source": [
    "# Costly app in play store is \"I'm Rich - Trump Edition\" in LIFESTYLE Category"
   ]
  },
  {
   "cell_type": "markdown",
   "metadata": {},
   "source": [
    "# How many of apps with 5.0 ratings are Free to install."
   ]
  },
  {
   "cell_type": "code",
   "execution_count": 26,
   "metadata": {},
   "outputs": [],
   "source": [
    "a=df[(df[\"Rating\"]==5) & (df[\"Type\"]==0)].count()"
   ]
  },
  {
   "cell_type": "code",
   "execution_count": 27,
   "metadata": {},
   "outputs": [
    {
     "name": "stdout",
     "output_type": "stream",
     "text": [
      "No. of Apps with 5 rating & free to install is:  246\n"
     ]
    }
   ],
   "source": [
    "print(\"No. of Apps with 5 rating & free to install is: \",a.App)"
   ]
  },
  {
   "cell_type": "markdown",
   "metadata": {},
   "source": [
    "# Paid apps with full Rating."
   ]
  },
  {
   "cell_type": "code",
   "execution_count": 28,
   "metadata": {},
   "outputs": [
    {
     "data": {
      "text/plain": [
       "2262              Super Hearing Secret Voices Recorder PRO\n",
       "2271                                        FHR 5-Tier 2.0\n",
       "3957                                          ADS-B Driver\n",
       "4452                                       P-Home for KLWP\n",
       "4477                             Android P Style Icon Pack\n",
       "4988                                  Easy Hotspot Ad Free\n",
       "5237                                Hey AJ! It's Saturday!\n",
       "5246                                 Hey AJ! It's Bedtime!\n",
       "5260                                AJ Gray Dark Icon Pack\n",
       "5263                                     AJ Blue Icon Pack\n",
       "5482                            meStudying: AP English Lit\n",
       "5489                             AP Art History Flashcards\n",
       "5917                                              Ra Ga Ba\n",
       "5966                                          BC MVA Fines\n",
       "7100                                           CA Speakers\n",
       "7204             TI-84 CE Graphing Calculator Manual TI 84\n",
       "7377                                 CI 174 Gray Icon Pack\n",
       "7466                                                211:CK\n",
       "7477                            USMLE Step 2 CK Flashcards\n",
       "8014                                          Morse Player\n",
       "8018     30WPM Amateur ham radio Koch CW Morse code tra...\n",
       "8287                                   AC DC Power Monitor\n",
       "8526                                      DL Image Manager\n",
       "9010                                 RETRO Shocked DW-6000\n",
       "9039                                         Chronolink DX\n",
       "9056                           Santa's Monster Shootout DX\n",
       "10690                                             FO Bixby\n",
       "10697                                              Mu.F.O.\n",
       "Name: App, dtype: object"
      ]
     },
     "execution_count": 28,
     "metadata": {},
     "output_type": "execute_result"
    }
   ],
   "source": [
    "s=df[(df[\"Type\"]==1) & (df[\"Rating\"]==5)].App\n",
    "s"
   ]
  },
  {
   "cell_type": "code",
   "execution_count": 29,
   "metadata": {},
   "outputs": [
    {
     "data": {
      "image/png": "[encoded data removed]",
      "text/plain": [
       "<Figure size 720x1008 with 1 Axes>"
      ]
     },
     "metadata": {
      "needs_background": "light"
     },
     "output_type": "display_data"
    },
    {
     "name": "stdout",
     "output_type": "stream",
     "text": [
      "No. of paid apps with full rating: 28\n"
     ]
    }
   ],
   "source": [
    "r=s.value_counts()\n",
    "r.plot(kind=\"barh\",title=\"Paid Apps with full Rating\",figsize= (10,14),color=[\"Red\",\"green\",\"blue\",\"yellow\",\"brown\"])\n",
    "plt.xlabel(\"Type\")\n",
    "plt.ylabel(\"Apps\")\n",
    "plt.show()\n",
    "print(\"No. of paid apps with full rating:\", r.count())"
   ]
  },
  {
   "cell_type": "markdown",
   "metadata": {},
   "source": [
    "# How many of apps installed based on type(ie, for paid & free)"
   ]
  },
  {
   "cell_type": "code",
   "execution_count": 30,
   "metadata": {},
   "outputs": [
    {
     "name": "stdout",
     "output_type": "stream",
     "text": [
      "No. of Apps installed based on Type(free) & installation greater than 10000000:  2077\n",
      "No. of Apps installed based on Type(paid) & installation greater than 10000000:  3\n"
     ]
    }
   ],
   "source": [
    "x=df[(df[\"Type\"]==0) & (df[\"Installs\"]>=10000000000.0)].App.count()\n",
    "y=df[(df[\"Type\"]==1) & (df[\"Installs\"]>=10000000000.0)].App.count()\n",
    "print(\"No. of Apps installed based on Type(free) & installation greater than 10000000: \",x)\n",
    "print(\"No. of Apps installed based on Type(paid) & installation greater than 10000000: \",y)"
   ]
  },
  {
   "cell_type": "markdown",
   "metadata": {},
   "source": [
    "# Rating"
   ]
  },
  {
   "cell_type": "markdown",
   "metadata": {},
   "source": [
    "# How many apps are having rating 4 & 5 under each categories."
   ]
  },
  {
   "cell_type": "code",
   "execution_count": 31,
   "metadata": {},
   "outputs": [
    {
     "data": {
      "text/plain": [
       "329         COMICS\n",
       "612         DATING\n",
       "615         DATING\n",
       "633         DATING\n",
       "636         DATING\n",
       "           ...    \n",
       "10721         GAME\n",
       "10742    LIFESTYLE\n",
       "10776         GAME\n",
       "10820       FAMILY\n",
       "10837       FAMILY\n",
       "Name: Category, Length: 274, dtype: object"
      ]
     },
     "execution_count": 31,
     "metadata": {},
     "output_type": "execute_result"
    }
   ],
   "source": [
    "r=df[(df.Rating >= 4) & (df.Rating == 5)].Category\n",
    "r"
   ]
  },
  {
   "cell_type": "code",
   "execution_count": 32,
   "metadata": {},
   "outputs": [
    {
     "data": {
      "text/plain": [
       "FAMILY                 67\n",
       "LIFESTYLE              29\n",
       "MEDICAL                28\n",
       "BUSINESS               18\n",
       "TOOLS                  17\n",
       "HEALTH_AND_FITNESS     12\n",
       "GAME                   12\n",
       "PERSONALIZATION        10\n",
       "SOCIAL                  8\n",
       "PRODUCTIVITY            8\n",
       "FINANCE                 8\n",
       "NEWS_AND_MAGAZINES      7\n",
       "DATING                  6\n",
       "BOOKS_AND_REFERENCE     6\n",
       "EVENTS                  6\n",
       "PHOTOGRAPHY             6\n",
       "SHOPPING                6\n",
       "COMMUNICATION           5\n",
       "SPORTS                  4\n",
       "TRAVEL_AND_LOCAL        3\n",
       "FOOD_AND_DRINK          2\n",
       "COMICS                  2\n",
       "LIBRARIES_AND_DEMO      2\n",
       "ART_AND_DESIGN          1\n",
       "PARENTING               1\n",
       "Name: Category, dtype: int64"
      ]
     },
     "execution_count": 32,
     "metadata": {},
     "output_type": "execute_result"
    }
   ],
   "source": [
    "r_count=r.value_counts()\n",
    "r_count"
   ]
  },
  {
   "cell_type": "code",
   "execution_count": 33,
   "metadata": {},
   "outputs": [
    {
     "data": {
      "image/png": "[encoded data removed]",
      "text/plain": [
       "<Figure size 864x576 with 1 Axes>"
      ]
     },
     "metadata": {
      "needs_background": "light"
     },
     "output_type": "display_data"
    }
   ],
   "source": [
    "r.value_counts().plot(kind=\"barh\",title=\"Category of apps having above 4 & 5 Rating \",figsize= (12,8),color=[\"Red\",\"green\",\"blue\",\"yellow\",\"brown\",\"pink\"])\n",
    "plt.xlabel(\"Values\")\n",
    "plt.ylabel(\"Category\")\n",
    "plt.show()"
   ]
  },
  {
   "cell_type": "raw",
   "metadata": {},
   "source": [
    "# apps having above 4 & 5 rating are under Family & Lifestyle Category"
   ]
  },
  {
   "cell_type": "markdown",
   "metadata": {},
   "source": [
    "# How many reviews for 5 rating apps & below 5 rating apps"
   ]
  },
  {
   "cell_type": "code",
   "execution_count": 34,
   "metadata": {},
   "outputs": [
    {
     "data": {
      "text/html": [
       "<div>\n",
       "<style scoped>\n",
       "    .dataframe tbody tr th:only-of-type {\n",
       "        vertical-align: middle;\n",
       "    }\n",
       "\n",
       "    .dataframe tbody tr th {\n",
       "        vertical-align: top;\n",
       "    }\n",
       "\n",
       "    .dataframe thead th {\n",
       "        text-align: right;\n",
       "    }\n",
       "</style>\n",
       "<table border=\"1\" class=\"dataframe\">\n",
       "  <thead>\n",
       "    <tr style=\"text-align: right;\">\n",
       "      <th></th>\n",
       "      <th>App</th>\n",
       "      <th>Reviews</th>\n",
       "      <th>Rating</th>\n",
       "    </tr>\n",
       "  </thead>\n",
       "  <tbody>\n",
       "    <tr>\n",
       "      <th>329</th>\n",
       "      <td>Hojiboy Tojiboyev Life Hacks</td>\n",
       "      <td>15</td>\n",
       "      <td>5.0</td>\n",
       "    </tr>\n",
       "    <tr>\n",
       "      <th>612</th>\n",
       "      <td>American Girls Mobile Numbers</td>\n",
       "      <td>5</td>\n",
       "      <td>5.0</td>\n",
       "    </tr>\n",
       "    <tr>\n",
       "      <th>615</th>\n",
       "      <td>Awake Dating</td>\n",
       "      <td>2</td>\n",
       "      <td>5.0</td>\n",
       "    </tr>\n",
       "    <tr>\n",
       "      <th>633</th>\n",
       "      <td>Spine- The dating app</td>\n",
       "      <td>5</td>\n",
       "      <td>5.0</td>\n",
       "    </tr>\n",
       "    <tr>\n",
       "      <th>636</th>\n",
       "      <td>Girls Live Talk - Free Text and Video Chat</td>\n",
       "      <td>6</td>\n",
       "      <td>5.0</td>\n",
       "    </tr>\n",
       "    <tr>\n",
       "      <th>640</th>\n",
       "      <td>Online Girls Chat Group</td>\n",
       "      <td>5</td>\n",
       "      <td>5.0</td>\n",
       "    </tr>\n",
       "    <tr>\n",
       "      <th>654</th>\n",
       "      <td>Speeding Joyride &amp; Car Meet App</td>\n",
       "      <td>3</td>\n",
       "      <td>5.0</td>\n",
       "    </tr>\n",
       "    <tr>\n",
       "      <th>1028</th>\n",
       "      <td>SUMMER SONIC app</td>\n",
       "      <td>4</td>\n",
       "      <td>5.0</td>\n",
       "    </tr>\n",
       "    <tr>\n",
       "      <th>1030</th>\n",
       "      <td>Prosperity</td>\n",
       "      <td>16</td>\n",
       "      <td>5.0</td>\n",
       "    </tr>\n",
       "    <tr>\n",
       "      <th>1038</th>\n",
       "      <td>Mindvalley U Tallinn 2018</td>\n",
       "      <td>1</td>\n",
       "      <td>5.0</td>\n",
       "    </tr>\n",
       "  </tbody>\n",
       "</table>\n",
       "</div>"
      ],
      "text/plain": [
       "                                             App  Reviews  Rating\n",
       "329                 Hojiboy Tojiboyev Life Hacks       15     5.0\n",
       "612                American Girls Mobile Numbers        5     5.0\n",
       "615                                 Awake Dating        2     5.0\n",
       "633                        Spine- The dating app        5     5.0\n",
       "636   Girls Live Talk - Free Text and Video Chat        6     5.0\n",
       "640                      Online Girls Chat Group        5     5.0\n",
       "654              Speeding Joyride & Car Meet App        3     5.0\n",
       "1028                            SUMMER SONIC app        4     5.0\n",
       "1030                                  Prosperity       16     5.0\n",
       "1038                   Mindvalley U Tallinn 2018        1     5.0"
      ]
     },
     "execution_count": 34,
     "metadata": {},
     "output_type": "execute_result"
    }
   ],
   "source": [
    "x=df[(df[\"Rating\"]==5)]\n",
    "y=x[['App','Reviews','Rating']][:10]\n",
    "y"
   ]
  },
  {
   "cell_type": "code",
   "execution_count": 35,
   "metadata": {},
   "outputs": [
    {
     "data": {
      "image/png": "[encoded data removed]",
      "text/plain": [
       "<Figure size 1008x360 with 1 Axes>"
      ]
     },
     "metadata": {
      "needs_background": "light"
     },
     "output_type": "display_data"
    }
   ],
   "source": [
    "y.plot(kind=\"bar\",title=\"Reviews for 5 rating apps\",figsize= (14,5),color=[\"green\",\"red\"])\n",
    "plt.legend()\n",
    "plt.show()"
   ]
  },
  {
   "cell_type": "code",
   "execution_count": 36,
   "metadata": {},
   "outputs": [
    {
     "data": {
      "text/html": [
       "<div>\n",
       "<style scoped>\n",
       "    .dataframe tbody tr th:only-of-type {\n",
       "        vertical-align: middle;\n",
       "    }\n",
       "\n",
       "    .dataframe tbody tr th {\n",
       "        vertical-align: top;\n",
       "    }\n",
       "\n",
       "    .dataframe thead th {\n",
       "        text-align: right;\n",
       "    }\n",
       "</style>\n",
       "<table border=\"1\" class=\"dataframe\">\n",
       "  <thead>\n",
       "    <tr style=\"text-align: right;\">\n",
       "      <th></th>\n",
       "      <th>App</th>\n",
       "      <th>Reviews</th>\n",
       "      <th>Rating</th>\n",
       "    </tr>\n",
       "  </thead>\n",
       "  <tbody>\n",
       "    <tr>\n",
       "      <th>0</th>\n",
       "      <td>Photo Editor &amp; Candy Camera &amp; Grid &amp; ScrapBook</td>\n",
       "      <td>159</td>\n",
       "      <td>4.1</td>\n",
       "    </tr>\n",
       "    <tr>\n",
       "      <th>1</th>\n",
       "      <td>Coloring book moana</td>\n",
       "      <td>967</td>\n",
       "      <td>3.9</td>\n",
       "    </tr>\n",
       "    <tr>\n",
       "      <th>2</th>\n",
       "      <td>U Launcher Lite – FREE Live Cool Themes, Hide ...</td>\n",
       "      <td>87510</td>\n",
       "      <td>4.7</td>\n",
       "    </tr>\n",
       "    <tr>\n",
       "      <th>3</th>\n",
       "      <td>Sketch - Draw &amp; Paint</td>\n",
       "      <td>215644</td>\n",
       "      <td>4.5</td>\n",
       "    </tr>\n",
       "    <tr>\n",
       "      <th>4</th>\n",
       "      <td>Pixel Draw - Number Art Coloring Book</td>\n",
       "      <td>967</td>\n",
       "      <td>4.3</td>\n",
       "    </tr>\n",
       "  </tbody>\n",
       "</table>\n",
       "</div>"
      ],
      "text/plain": [
       "                                                 App  Reviews  Rating\n",
       "0     Photo Editor & Candy Camera & Grid & ScrapBook      159     4.1\n",
       "1                                Coloring book moana      967     3.9\n",
       "2  U Launcher Lite – FREE Live Cool Themes, Hide ...    87510     4.7\n",
       "3                              Sketch - Draw & Paint   215644     4.5\n",
       "4              Pixel Draw - Number Art Coloring Book      967     4.3"
      ]
     },
     "execution_count": 36,
     "metadata": {},
     "output_type": "execute_result"
    }
   ],
   "source": [
    "z=df[(df[\"Rating\"]<5)]\n",
    "b=z[['Rating']][:5]\n",
    "a=z[['Reviews']][:5]\n",
    "z[['App','Reviews','Rating']][:5]\n"
   ]
  },
  {
   "cell_type": "code",
   "execution_count": 37,
   "metadata": {},
   "outputs": [
    {
     "data": {
      "image/png": "[encoded data removed]",
      "text/plain": [
       "<Figure size 1008x360 with 2 Axes>"
      ]
     },
     "metadata": {
      "needs_background": "light"
     },
     "output_type": "display_data"
    }
   ],
   "source": [
    "fig,axs = plt.subplots(1,2)\n",
    "a.plot(kind=\"bar\",title=\"Reviews for below 5 rating apps\",figsize= (14,5),color=[\"blue\"],ax=axs[0])\n",
    "b.plot(kind=\"bar\",title=\"Rating for below 5 rating apps\",figsize= (14,5),color=[\"red\"],ax=axs[1])\n",
    "\n",
    "plt.legend()\n",
    "plt.show()"
   ]
  },
  {
   "cell_type": "markdown",
   "metadata": {},
   "source": [
    "# Average rating of  each category."
   ]
  },
  {
   "cell_type": "code",
   "execution_count": 38,
   "metadata": {},
   "outputs": [
    {
     "name": "stdout",
     "output_type": "stream",
     "text": [
      "Category\n",
      "ART_AND_DESIGN         4.377049\n",
      "AUTO_AND_VEHICLES      4.190411\n",
      "BEAUTY                 4.278571\n",
      "BOOKS_AND_REFERENCE    4.346067\n",
      "BUSINESS               4.121452\n",
      "COMICS                 4.155172\n",
      "COMMUNICATION          4.158537\n",
      "DATING                 3.970769\n",
      "EDUCATION              4.389032\n",
      "ENTERTAINMENT          4.126174\n",
      "EVENTS                 4.435556\n",
      "FAMILY                 4.192383\n",
      "FINANCE                4.131889\n",
      "FOOD_AND_DRINK         4.166972\n",
      "GAME                   4.286326\n",
      "HEALTH_AND_FITNESS     4.277104\n",
      "HOUSE_AND_HOME         4.197368\n",
      "LIBRARIES_AND_DEMO     4.179688\n",
      "LIFESTYLE              4.094904\n",
      "MAPS_AND_NAVIGATION    4.051613\n",
      "MEDICAL                4.189143\n",
      "NEWS_AND_MAGAZINES     4.132189\n",
      "PARENTING              4.300000\n",
      "PERSONALIZATION        4.335256\n",
      "PHOTOGRAPHY            4.192114\n",
      "PRODUCTIVITY           4.211396\n",
      "SHOPPING               4.259664\n",
      "SOCIAL                 4.255598\n",
      "SPORTS                 4.223511\n",
      "TOOLS                  4.047203\n",
      "TRAVEL_AND_LOCAL       4.109292\n",
      "VIDEO_PLAYERS          4.063750\n",
      "WEATHER                4.244000\n",
      "Name: Rating, dtype: float64\n"
     ]
    },
    {
     "data": {
      "image/png": "[encoded data removed]",
      "text/plain": [
       "<Figure size 1008x360 with 1 Axes>"
      ]
     },
     "metadata": {
      "needs_background": "light"
     },
     "output_type": "display_data"
    }
   ],
   "source": [
    "grup = df.groupby('Category')\n",
    "x = grup['Rating'].agg(np.mean)\n",
    "print(x)\n",
    "x.plot(kind=\"bar\",title=\"Average rating of each category\",figsize= (14,5),color=[\"Red\",\"green\",\"blue\",\"yellow\",\"brown\",\"pink\"])\n",
    "plt.show()"
   ]
  },
  {
   "cell_type": "raw",
   "metadata": {},
   "source": [
    "# Max. Average rating is for the category \"EVENTS\""
   ]
  },
  {
   "cell_type": "markdown",
   "metadata": {},
   "source": [
    "# Average Reviews of  each category ."
   ]
  },
  {
   "cell_type": "code",
   "execution_count": 39,
   "metadata": {},
   "outputs": [
    {
     "name": "stdout",
     "output_type": "stream",
     "text": [
      "Category\n",
      "ART_AND_DESIGN         2.810356e+04\n",
      "AUTO_AND_VEHICLES      1.594014e+04\n",
      "BEAUTY                 9.407929e+03\n",
      "BOOKS_AND_REFERENCE    1.233633e+05\n",
      "BUSINESS               4.605309e+04\n",
      "COMICS                 5.830940e+04\n",
      "COMMUNICATION          2.486164e+06\n",
      "DATING                 3.738994e+04\n",
      "EDUCATION              2.554517e+05\n",
      "ENTERTAINMENT          3.971688e+05\n",
      "EVENTS                 3.568667e+03\n",
      "FAMILY                 2.349501e+05\n",
      "FINANCE                5.433562e+04\n",
      "FOOD_AND_DRINK         8.149550e+04\n",
      "GAME                   1.445232e+06\n",
      "HEALTH_AND_FITNESS     1.275880e+05\n",
      "HOUSE_AND_HOME         5.231584e+04\n",
      "LIBRARIES_AND_DEMO     1.583422e+04\n",
      "LIFESTYLE              4.102474e+04\n",
      "MAPS_AND_NAVIGATION    2.472505e+05\n",
      "MEDICAL                4.530349e+03\n",
      "NEWS_AND_MAGAZINES     2.334760e+05\n",
      "PARENTING              1.907218e+04\n",
      "PERSONALIZATION        2.863634e+05\n",
      "PHOTOGRAPHY            6.735540e+05\n",
      "PRODUCTIVITY           3.251189e+05\n",
      "SHOPPING               4.833657e+05\n",
      "SOCIAL                 2.398614e+06\n",
      "SPORTS                 2.220363e+05\n",
      "TOOLS                  3.726878e+05\n",
      "TRAVEL_AND_LOCAL       2.770698e+05\n",
      "VIDEO_PLAYERS          6.898731e+05\n",
      "WEATHER                1.947293e+05\n",
      "Name: Reviews, dtype: float64\n"
     ]
    },
    {
     "data": {
      "image/png": "[encoded data removed]",
      "text/plain": [
       "<Figure size 1008x360 with 1 Axes>"
      ]
     },
     "metadata": {
      "needs_background": "light"
     },
     "output_type": "display_data"
    }
   ],
   "source": [
    "y= grup['Reviews'].agg(np.mean)\n",
    "print(y)\n",
    "y.plot(kind=\"bar\",title=\"Average Reviews of each category\",figsize= (14,5),color=[\"Red\",\"green\",\"blue\",\"yellow\",\"brown\",\"pink\"])\n",
    "plt.show()"
   ]
  },
  {
   "cell_type": "raw",
   "metadata": {},
   "source": [
    "# Max. Average Reviews is under \"Communication\" category "
   ]
  },
  {
   "cell_type": "markdown",
   "metadata": {},
   "source": [
    "# Average installation of each category."
   ]
  },
  {
   "cell_type": "code",
   "execution_count": 40,
   "metadata": {},
   "outputs": [
    {
     "name": "stdout",
     "output_type": "stream",
     "text": [
      "Category\n",
      "ART_AND_DESIGN         1.959390e+09\n",
      "AUTO_AND_VEHICLES      6.645592e+08\n",
      "BEAUTY                 5.569429e+08\n",
      "BOOKS_AND_REFERENCE    6.129848e+10\n",
      "BUSINESS               3.274178e+09\n",
      "COMICS                 9.035104e+08\n",
      "COMMUNICATION          6.208559e+11\n",
      "DATING                 1.275534e+09\n",
      "EDUCATION              5.567324e+09\n",
      "ENTERTAINMENT          7.963970e+10\n",
      "EVENTS                 3.154363e+08\n",
      "FAMILY                 1.098440e+10\n",
      "FINANCE                2.676040e+09\n",
      "FOOD_AND_DRINK         2.464016e+09\n",
      "GAME                   8.117182e+10\n",
      "HEALTH_AND_FITNESS     5.269378e+09\n",
      "HOUSE_AND_HOME         2.140239e+09\n",
      "LIBRARIES_AND_DEMO     8.970047e+08\n",
      "LIFESTYLE              1.664508e+09\n",
      "MAPS_AND_NAVIGATION    5.817151e+09\n",
      "MEDICAL                1.129132e+08\n",
      "NEWS_AND_MAGAZINES     1.866512e+11\n",
      "PARENTING              5.662320e+08\n",
      "PERSONALIZATION        7.414531e+09\n",
      "PHOTOGRAPHY            1.453625e+11\n",
      "PRODUCTIVITY           1.429208e+11\n",
      "SHOPPING               1.359783e+10\n",
      "SOCIAL                 3.322818e+11\n",
      "SPORTS                 5.452392e+09\n",
      "TOOLS                  4.014546e+10\n",
      "TRAVEL_AND_LOCAL       2.294809e+11\n",
      "VIDEO_PLAYERS          2.076149e+11\n",
      "WEATHER                5.620128e+09\n",
      "Name: Installs, dtype: float64\n"
     ]
    },
    {
     "data": {
      "image/png": "[encoded data removed]",
      "text/plain": [
       "<Figure size 1008x360 with 1 Axes>"
      ]
     },
     "metadata": {
      "needs_background": "light"
     },
     "output_type": "display_data"
    }
   ],
   "source": [
    "z= grup['Installs'].agg(np.mean)\n",
    "print(z)\n",
    "z.plot(kind=\"bar\",title=\"Average Installs of each category\",figsize= (14,5),color=[\"Red\",\"green\",\"blue\",\"yellow\",\"brown\",\"pink\"])\n",
    "plt.show()"
   ]
  },
  {
   "cell_type": "raw",
   "metadata": {},
   "source": [
    "# Max. Average Installs is under \"COMMUNICATION\" category "
   ]
  },
  {
   "cell_type": "markdown",
   "metadata": {},
   "source": [
    "# Average Pricing of each category."
   ]
  },
  {
   "cell_type": "code",
   "execution_count": 41,
   "metadata": {},
   "outputs": [
    {
     "data": {
      "image/png": "[encoded data removed]",
      "text/plain": [
       "<Figure size 1008x360 with 1 Axes>"
      ]
     },
     "metadata": {
      "needs_background": "light"
     },
     "output_type": "display_data"
    }
   ],
   "source": [
    "v= grup['Price'].agg(np.mean)\n",
    "#print(v)\n",
    "z.plot(kind=\"bar\",title=\"Average Price of each category\",figsize= (14,5),color=[\"Red\",\"green\",\"blue\",\"yellow\",\"brown\",\"pink\"])\n",
    "plt.show()"
   ]
  },
  {
   "cell_type": "raw",
   "metadata": {},
   "source": [
    "# Max. Average Price is under \"COMMUNICATION\" category "
   ]
  },
  {
   "cell_type": "markdown",
   "metadata": {},
   "source": [
    "# How many of apps having 5.0 rating."
   ]
  },
  {
   "cell_type": "code",
   "execution_count": 42,
   "metadata": {},
   "outputs": [
    {
     "data": {
      "text/plain": [
       "BP Journal - Blood Pressure Diary    2\n",
       "420 BZ Budeze Delivery               2\n",
       "Sway Medical                         2\n",
       "Hey AJ! It's Saturday!               1\n",
       "iReadMe                              1\n",
       "                                    ..\n",
       "Ag Valley Cooperative                1\n",
       "daskal.eu                            1\n",
       "AP Art History Flashcards            1\n",
       "EB Cash Collections                  1\n",
       "AJ Blue Icon Pack                    1\n",
       "Name: App, Length: 271, dtype: int64"
      ]
     },
     "execution_count": 42,
     "metadata": {},
     "output_type": "execute_result"
    }
   ],
   "source": [
    "df[df[\"Rating\"]==5].App.value_counts()"
   ]
  },
  {
   "cell_type": "code",
   "execution_count": 43,
   "metadata": {},
   "outputs": [
    {
     "name": "stdout",
     "output_type": "stream",
     "text": [
      "No. of Apps with 5 ratings:  274\n"
     ]
    }
   ],
   "source": [
    "print(\"No. of Apps with 5 ratings: \",df.App[df['Rating']== 5 ].count())"
   ]
  },
  {
   "cell_type": "code",
   "execution_count": 44,
   "metadata": {},
   "outputs": [
    {
     "data": {
      "text/plain": [
       "<AxesSubplot:>"
      ]
     },
     "execution_count": 44,
     "metadata": {},
     "output_type": "execute_result"
    },
    {
     "data": {
      "image/png": "[encoded data removed]",
      "text/plain": [
       "<Figure size 432x288 with 1 Axes>"
      ]
     },
     "metadata": {
      "needs_background": "light"
     },
     "output_type": "display_data"
    }
   ],
   "source": [
    "df[\"Rating\"].hist()"
   ]
  },
  {
   "cell_type": "markdown",
   "metadata": {},
   "source": [
    "# Display first top 3 rating apps."
   ]
  },
  {
   "cell_type": "code",
   "execution_count": 45,
   "metadata": {},
   "outputs": [
    {
     "data": {
      "text/html": [
       "<div>\n",
       "<style scoped>\n",
       "    .dataframe tbody tr th:only-of-type {\n",
       "        vertical-align: middle;\n",
       "    }\n",
       "\n",
       "    .dataframe tbody tr th {\n",
       "        vertical-align: top;\n",
       "    }\n",
       "\n",
       "    .dataframe thead th {\n",
       "        text-align: right;\n",
       "    }\n",
       "</style>\n",
       "<table border=\"1\" class=\"dataframe\">\n",
       "  <thead>\n",
       "    <tr style=\"text-align: right;\">\n",
       "      <th></th>\n",
       "      <th>App</th>\n",
       "      <th>Category</th>\n",
       "      <th>Rating</th>\n",
       "      <th>Reviews</th>\n",
       "      <th>Size</th>\n",
       "      <th>Installs</th>\n",
       "      <th>Type</th>\n",
       "      <th>Price</th>\n",
       "      <th>Content Rating</th>\n",
       "      <th>Genres</th>\n",
       "      <th>Last Updated</th>\n",
       "      <th>Current Ver</th>\n",
       "      <th>Android Ver</th>\n",
       "    </tr>\n",
       "  </thead>\n",
       "  <tbody>\n",
       "    <tr>\n",
       "      <th>329</th>\n",
       "      <td>Hojiboy Tojiboyev Life Hacks</td>\n",
       "      <td>COMICS</td>\n",
       "      <td>5.0</td>\n",
       "      <td>15</td>\n",
       "      <td>37.0</td>\n",
       "      <td>100000.0</td>\n",
       "      <td>0</td>\n",
       "      <td>0.0</td>\n",
       "      <td>Everyone</td>\n",
       "      <td>Comics</td>\n",
       "      <td>June 26, 2018</td>\n",
       "      <td>951</td>\n",
       "      <td>4.0</td>\n",
       "    </tr>\n",
       "    <tr>\n",
       "      <th>612</th>\n",
       "      <td>American Girls Mobile Numbers</td>\n",
       "      <td>DATING</td>\n",
       "      <td>5.0</td>\n",
       "      <td>5</td>\n",
       "      <td>4.4</td>\n",
       "      <td>100000.0</td>\n",
       "      <td>0</td>\n",
       "      <td>0.0</td>\n",
       "      <td>Mature 17+</td>\n",
       "      <td>Dating</td>\n",
       "      <td>July 17, 2018</td>\n",
       "      <td>1432</td>\n",
       "      <td>4.0</td>\n",
       "    </tr>\n",
       "    <tr>\n",
       "      <th>615</th>\n",
       "      <td>Awake Dating</td>\n",
       "      <td>DATING</td>\n",
       "      <td>5.0</td>\n",
       "      <td>2</td>\n",
       "      <td>70.0</td>\n",
       "      <td>1000.0</td>\n",
       "      <td>0</td>\n",
       "      <td>0.0</td>\n",
       "      <td>Mature 17+</td>\n",
       "      <td>Dating</td>\n",
       "      <td>July 24, 2018</td>\n",
       "      <td>1151</td>\n",
       "      <td>4.0</td>\n",
       "    </tr>\n",
       "  </tbody>\n",
       "</table>\n",
       "</div>"
      ],
      "text/plain": [
       "                               App Category  Rating  Reviews  Size  Installs  \\\n",
       "329   Hojiboy Tojiboyev Life Hacks   COMICS     5.0       15  37.0  100000.0   \n",
       "612  American Girls Mobile Numbers   DATING     5.0        5   4.4  100000.0   \n",
       "615                   Awake Dating   DATING     5.0        2  70.0    1000.0   \n",
       "\n",
       "     Type  Price Content Rating  Genres   Last Updated  Current Ver  \\\n",
       "329     0    0.0       Everyone  Comics  June 26, 2018          951   \n",
       "612     0    0.0     Mature 17+  Dating  July 17, 2018         1432   \n",
       "615     0    0.0     Mature 17+  Dating  July 24, 2018         1151   \n",
       "\n",
       "     Android Ver  \n",
       "329          4.0  \n",
       "612          4.0  \n",
       "615          4.0  "
      ]
     },
     "execution_count": 45,
     "metadata": {},
     "output_type": "execute_result"
    }
   ],
   "source": [
    "df[df[\"Rating\"]==5].head(3)"
   ]
  },
  {
   "cell_type": "markdown",
   "metadata": {},
   "source": [
    "# Apps having full rating & analyse the no. of installation"
   ]
  },
  {
   "cell_type": "code",
   "execution_count": 46,
   "metadata": {},
   "outputs": [
    {
     "name": "stderr",
     "output_type": "stream",
     "text": [
      "<ipython-input-46-05d7925e9082>:2: UserWarning: Boolean Series key will be reindexed to match DataFrame index.\n",
      "  installs = Rating[df.Installs >= 500000]\n"
     ]
    },
    {
     "data": {
      "text/html": [
       "<div>\n",
       "<style scoped>\n",
       "    .dataframe tbody tr th:only-of-type {\n",
       "        vertical-align: middle;\n",
       "    }\n",
       "\n",
       "    .dataframe tbody tr th {\n",
       "        vertical-align: top;\n",
       "    }\n",
       "\n",
       "    .dataframe thead th {\n",
       "        text-align: right;\n",
       "    }\n",
       "</style>\n",
       "<table border=\"1\" class=\"dataframe\">\n",
       "  <thead>\n",
       "    <tr style=\"text-align: right;\">\n",
       "      <th></th>\n",
       "      <th>App</th>\n",
       "      <th>Category</th>\n",
       "      <th>Installs</th>\n",
       "    </tr>\n",
       "  </thead>\n",
       "  <tbody>\n",
       "    <tr>\n",
       "      <th>7514</th>\n",
       "      <td>CL Keyboard - Myanmar Keyboard (No Ads)</td>\n",
       "      <td>TOOLS</td>\n",
       "      <td>500000.0</td>\n",
       "    </tr>\n",
       "    <tr>\n",
       "      <th>8058</th>\n",
       "      <td>Oración CX</td>\n",
       "      <td>LIFESTYLE</td>\n",
       "      <td>500000.0</td>\n",
       "    </tr>\n",
       "    <tr>\n",
       "      <th>8260</th>\n",
       "      <td>Superheroes, Marvel, DC, Comics, TV, Movies News</td>\n",
       "      <td>COMICS</td>\n",
       "      <td>500000.0</td>\n",
       "    </tr>\n",
       "    <tr>\n",
       "      <th>9511</th>\n",
       "      <td>Ek Bander Ne Kholi Dukan</td>\n",
       "      <td>FAMILY</td>\n",
       "      <td>1000000.0</td>\n",
       "    </tr>\n",
       "  </tbody>\n",
       "</table>\n",
       "</div>"
      ],
      "text/plain": [
       "                                                   App   Category   Installs\n",
       "7514           CL Keyboard - Myanmar Keyboard (No Ads)      TOOLS   500000.0\n",
       "8058                                        Oración CX  LIFESTYLE   500000.0\n",
       "8260  Superheroes, Marvel, DC, Comics, TV, Movies News     COMICS   500000.0\n",
       "9511                          Ek Bander Ne Kholi Dukan     FAMILY  1000000.0"
      ]
     },
     "execution_count": 46,
     "metadata": {},
     "output_type": "execute_result"
    }
   ],
   "source": [
    "Rating = df[df.Rating == 5]\n",
    "installs = Rating[df.Installs >= 500000]\n",
    "\n",
    "installs[['App', 'Category', 'Installs']]"
   ]
  },
  {
   "cell_type": "markdown",
   "metadata": {},
   "source": [
    "#  Most popular app based on reviews."
   ]
  },
  {
   "cell_type": "code",
   "execution_count": 47,
   "metadata": {},
   "outputs": [
    {
     "name": "stderr",
     "output_type": "stream",
     "text": [
      "<ipython-input-47-1eaa9aba487d>:2: UserWarning: Boolean Series key will be reindexed to match DataFrame index.\n",
      "  rat = maxr[df.Rating >= 4.0]\n"
     ]
    },
    {
     "data": {
      "text/html": [
       "<div>\n",
       "<style scoped>\n",
       "    .dataframe tbody tr th:only-of-type {\n",
       "        vertical-align: middle;\n",
       "    }\n",
       "\n",
       "    .dataframe tbody tr th {\n",
       "        vertical-align: top;\n",
       "    }\n",
       "\n",
       "    .dataframe thead th {\n",
       "        text-align: right;\n",
       "    }\n",
       "</style>\n",
       "<table border=\"1\" class=\"dataframe\">\n",
       "  <thead>\n",
       "    <tr style=\"text-align: right;\">\n",
       "      <th></th>\n",
       "      <th>App</th>\n",
       "      <th>Category</th>\n",
       "      <th>Installs</th>\n",
       "      <th>Reviews</th>\n",
       "      <th>Rating</th>\n",
       "    </tr>\n",
       "  </thead>\n",
       "  <tbody>\n",
       "    <tr>\n",
       "      <th>2544</th>\n",
       "      <td>Facebook</td>\n",
       "      <td>SOCIAL</td>\n",
       "      <td>1.000000e+13</td>\n",
       "      <td>78158306</td>\n",
       "      <td>4.1</td>\n",
       "    </tr>\n",
       "  </tbody>\n",
       "</table>\n",
       "</div>"
      ],
      "text/plain": [
       "           App Category      Installs   Reviews  Rating\n",
       "2544  Facebook   SOCIAL  1.000000e+13  78158306     4.1"
      ]
     },
     "execution_count": 47,
     "metadata": {},
     "output_type": "execute_result"
    }
   ],
   "source": [
    "maxr=df[(df.Reviews == df.Reviews.max())]\n",
    "rat = maxr[df.Rating >= 4.0]\n",
    "\n",
    "rat[['App', 'Category', 'Installs','Reviews','Rating']]"
   ]
  },
  {
   "cell_type": "raw",
   "metadata": {},
   "source": [
    "# \"Facebook\" is the most popular app with max. reviews & Installs and also having rating of 4.1"
   ]
  },
  {
   "cell_type": "markdown",
   "metadata": {},
   "source": [
    "# How many reviews for apps having rating \"5\""
   ]
  },
  {
   "cell_type": "code",
   "execution_count": 48,
   "metadata": {},
   "outputs": [
    {
     "data": {
      "text/plain": [
       "count    10.000000\n",
       "mean      1.300000\n",
       "std       0.483046\n",
       "min       1.000000\n",
       "25%       1.000000\n",
       "50%       1.000000\n",
       "75%       1.750000\n",
       "max       2.000000\n",
       "Name: App, dtype: float64"
      ]
     },
     "execution_count": 48,
     "metadata": {},
     "output_type": "execute_result"
    },
    {
     "data": {
      "image/png": "[encoded data removed]",
      "text/plain": [
       "<Figure size 1008x360 with 1 Axes>"
      ]
     },
     "metadata": {
      "needs_background": "light"
     },
     "output_type": "display_data"
    }
   ],
   "source": [
    "#f=df[df[\"Rating\"]==5].Reviews.value_counts()\n",
    "f=df[df[\"Rating\"]==5 & df['Reviews']].App.value_counts()[:10]\n",
    "\n",
    "f.plot(kind=\"barh\",title=\"Reviews for apps having rating 5\",figsize= (14,5),color=[\"Red\",\"green\",\"blue\",\"yellow\",\"brown\",\"pink\"])\n",
    "f.describe()\n"
   ]
  },
  {
   "cell_type": "code",
   "execution_count": 49,
   "metadata": {},
   "outputs": [
    {
     "data": {
      "text/plain": [
       "Sway Medical                                        2\n",
       "The CJ Rubric                                       1\n",
       "Disciple Maker’s (DM) Lab                           1\n",
       "Ríos de Fe                                          1\n",
       "i am EB                                             1\n",
       "AI Today : Artificial Intelligence News & AI 101    1\n",
       "Victoria EC                                         1\n",
       "ES Billing System (Offline App)                     1\n",
       "DC-014                                              1\n",
       "PrimeDelivery                                       1\n",
       "Name: App, dtype: int64"
      ]
     },
     "execution_count": 49,
     "metadata": {},
     "output_type": "execute_result"
    },
    {
     "data": {
      "image/png": "[encoded data removed]",
      "text/plain": [
       "<Figure size 1008x360 with 1 Axes>"
      ]
     },
     "metadata": {
      "needs_background": "light"
     },
     "output_type": "display_data"
    }
   ],
   "source": [
    "f=df[(df[\"Rating\"]==5) & (df['Reviews'])].App.value_counts()[:10]\n",
    "\n",
    "f.plot(kind=\"barh\",title=\"Reviews for apps having rating 5\",figsize= (14,5),color=[\"Red\",\"green\",\"blue\",\"yellow\",\"brown\",\"pink\"])\n",
    "f"
   ]
  },
  {
   "cell_type": "markdown",
   "metadata": {},
   "source": [
    "# Show top 10 app genres"
   ]
  },
  {
   "cell_type": "code",
   "execution_count": 50,
   "metadata": {},
   "outputs": [
    {
     "data": {
      "image/png": "[encoded data removed]",
      "text/plain": [
       "<Figure size 1008x360 with 1 Axes>"
      ]
     },
     "metadata": {
      "needs_background": "light"
     },
     "output_type": "display_data"
    }
   ],
   "source": [
    "genres = df[\"Genres\"].value_counts()[:10]\n",
    "genres.plot(kind=\"bar\",title=\"Top 10 app genres\",figsize= (14,5),color=[\"Red\",\"green\",\"blue\",\"yellow\",\"brown\",\"pink\"])\n",
    "plt.ylabel(\"Values\")\n",
    "plt.xlabel(\"Genres\")\n",
    "plt.xticks(rotation=45)\n",
    "plt.show()\n"
   ]
  },
  {
   "cell_type": "raw",
   "metadata": {},
   "source": [
    "# Top genres include the Tools, Entertainment & Education"
   ]
  },
  {
   "cell_type": "markdown",
   "metadata": {},
   "source": [
    "# Show in pie chart, related to Genres with 5 Ratings & Installs."
   ]
  },
  {
   "cell_type": "code",
   "execution_count": 51,
   "metadata": {},
   "outputs": [
    {
     "data": {
      "text/plain": [
       "<AxesSubplot:title={'center':'Genres with 5 Ratings & Installs'}, ylabel='Genres'>"
      ]
     },
     "execution_count": 51,
     "metadata": {},
     "output_type": "execute_result"
    },
    {
     "data": {
      "image/png": "[encoded data removed]",
      "text/plain": [
       "<Figure size 1800x432 with 1 Axes>"
      ]
     },
     "metadata": {},
     "output_type": "display_data"
    }
   ],
   "source": [
    "gen=df[(df[\"Rating\"]==5) & (df[\"Installs\"]>=100000)].Genres.value_counts()\n",
    "gen\n",
    "gen.plot(kind=\"pie\",title=\"Genres with 5 Ratings & Installs\",figsize= (25,6),autopct='%0.1f%%')"
   ]
  },
  {
   "cell_type": "markdown",
   "metadata": {},
   "source": [
    "# Apps\n"
   ]
  },
  {
   "cell_type": "markdown",
   "metadata": {},
   "source": [
    "# How Many apps are last updated"
   ]
  },
  {
   "cell_type": "code",
   "execution_count": 52,
   "metadata": {},
   "outputs": [
    {
     "data": {
      "text/plain": [
       "2018-08-03    319\n",
       "Name: Last Updated, dtype: int64"
      ]
     },
     "execution_count": 52,
     "metadata": {},
     "output_type": "execute_result"
    }
   ],
   "source": [
    "df[\"Last Updated\"]=pd.to_datetime(df[\"Last Updated\"])\n",
    "update=df[\"Last Updated\"].value_counts()\n",
    "update[:1]"
   ]
  },
  {
   "cell_type": "code",
   "execution_count": 53,
   "metadata": {},
   "outputs": [
    {
     "data": {
      "image/png": "[encoded data removed]",
      "text/plain": [
       "<Figure size 1008x360 with 1 Axes>"
      ]
     },
     "metadata": {
      "needs_background": "light"
     },
     "output_type": "display_data"
    }
   ],
   "source": [
    "LastUpdated = update[:10]\n",
    "LastUpdated.plot(kind=\"bar\",title=\"No. of Apps Last Updated\",figsize= (14,5),color=[\"Red\",\"green\",\"blue\",\"yellow\",\"brown\",\"pink\"])\n",
    "plt.ylabel(\"Values\")\n",
    "plt.xlabel(\"Dates\")\n",
    "plt.xticks(rotation=45)\n",
    "plt.show()"
   ]
  },
  {
   "cell_type": "raw",
   "metadata": {},
   "source": [
    "# 319 apps are updated on 2018-08-03"
   ]
  },
  {
   "cell_type": "markdown",
   "metadata": {},
   "source": [
    "# Last 20 updated Apps"
   ]
  },
  {
   "cell_type": "code",
   "execution_count": 54,
   "metadata": {},
   "outputs": [
    {
     "data": {
      "image/png": "[encoded data removed]",
      "text/plain": [
       "<Figure size 360x864 with 1 Axes>"
      ]
     },
     "metadata": {
      "needs_background": "light"
     },
     "output_type": "display_data"
    },
    {
     "data": {
      "text/plain": [
       "Who                                                   2\n",
       "WhatsApp Messenger                                    2\n",
       "Google Voice                                          2\n",
       "think Comics                                          1\n",
       "My Tele2                                              1\n",
       "Skype - free IM & video calls                         1\n",
       "Unicorn Pokez - Color By Number                       1\n",
       "Uber Driver                                           1\n",
       "FlipaClip - Cartoon animation                         1\n",
       "Google Play Books                                     1\n",
       "2ndLine - Second Phone Number                         1\n",
       "Mail.Ru - Email App                                   1\n",
       "E-Book Read - Read Book for free                      1\n",
       "3D Color Pixel by Number - Sandbox Art Coloring       1\n",
       "myMail – Email for Hotmail, Gmail and Outlook Mail    1\n",
       "KakaoTalk: Free Calls & Text                          1\n",
       "AutoScout24 Switzerland – Find your new car           1\n",
       "Name: App, dtype: int64"
      ]
     },
     "execution_count": 54,
     "metadata": {},
     "output_type": "execute_result"
    }
   ],
   "source": [
    "latest=df[df[\"Last Updated\"]==\"2018-08-03\"].App[:20].value_counts()\n",
    "latest.plot(kind=\"barh\",title=\"Last 20 updated apps\",figsize= (5,12),color=[\"Red\",\"green\",\"blue\",\"yellow\",\"brown\",\"pink\"])\n",
    "plt.ylabel(\"Apps\")\n",
    "plt.xlabel(\"Values\")\n",
    "plt.show()\n",
    "latest"
   ]
  },
  {
   "cell_type": "markdown",
   "metadata": {},
   "source": [
    "# Category wise Latest updated apps"
   ]
  },
  {
   "cell_type": "code",
   "execution_count": 55,
   "metadata": {},
   "outputs": [
    {
     "data": {
      "image/png": "[encoded data removed]",
      "text/plain": [
       "<Figure size 1296x432 with 1 Axes>"
      ]
     },
     "metadata": {
      "needs_background": "light"
     },
     "output_type": "display_data"
    }
   ],
   "source": [
    "latest=df[df[\"Last Updated\"]==\"2018-08-03\"].Category.value_counts()\n",
    "latest.plot(kind=\"bar\",title=\"Updation of apps per category\",figsize= (18,6),color=[\"Red\",\"green\",\"blue\",\"yellow\",\"brown\",\"pink\"])\n",
    "plt.ylabel(\"Values\")\n",
    "plt.xlabel(\"Category\")\n",
    "plt.xticks(rotation=90)\n",
    "plt.show()"
   ]
  },
  {
   "cell_type": "markdown",
   "metadata": {},
   "source": [
    "# Find out largest & smallest size app."
   ]
  },
  {
   "cell_type": "code",
   "execution_count": 56,
   "metadata": {},
   "outputs": [
    {
     "data": {
      "text/plain": [
       "14.0     166\n",
       "12.0     161\n",
       "15.0     159\n",
       "11.0     159\n",
       "13.0     157\n",
       "        ... \n",
       "454.0      1\n",
       "400.0      1\n",
       "280.0      1\n",
       "116.0      1\n",
       "259.0      1\n",
       "Name: Size, Length: 376, dtype: int64"
      ]
     },
     "execution_count": 56,
     "metadata": {},
     "output_type": "execute_result"
    }
   ],
   "source": [
    "df.Size.value_counts()"
   ]
  },
  {
   "cell_type": "code",
   "execution_count": 57,
   "metadata": {},
   "outputs": [
    {
     "name": "stderr",
     "output_type": "stream",
     "text": [
      "<ipython-input-57-73b2959e278c>:2: UserWarning: Boolean Series key will be reindexed to match DataFrame index.\n",
      "  smallr = small[df.Rating >=4.5]\n"
     ]
    },
    {
     "data": {
      "text/html": [
       "<div>\n",
       "<style scoped>\n",
       "    .dataframe tbody tr th:only-of-type {\n",
       "        vertical-align: middle;\n",
       "    }\n",
       "\n",
       "    .dataframe tbody tr th {\n",
       "        vertical-align: top;\n",
       "    }\n",
       "\n",
       "    .dataframe thead th {\n",
       "        text-align: right;\n",
       "    }\n",
       "</style>\n",
       "<table border=\"1\" class=\"dataframe\">\n",
       "  <thead>\n",
       "    <tr style=\"text-align: right;\">\n",
       "      <th></th>\n",
       "      <th>App</th>\n",
       "      <th>Category</th>\n",
       "      <th>Installs</th>\n",
       "      <th>Reviews</th>\n",
       "      <th>Rating</th>\n",
       "      <th>Size</th>\n",
       "    </tr>\n",
       "  </thead>\n",
       "  <tbody>\n",
       "    <tr>\n",
       "      <th>8077</th>\n",
       "      <td>go41cx</td>\n",
       "      <td>FAMILY</td>\n",
       "      <td>100000.0</td>\n",
       "      <td>171</td>\n",
       "      <td>4.8</td>\n",
       "      <td>1.0</td>\n",
       "    </tr>\n",
       "  </tbody>\n",
       "</table>\n",
       "</div>"
      ],
      "text/plain": [
       "         App Category  Installs  Reviews  Rating  Size\n",
       "8077  go41cx   FAMILY  100000.0      171     4.8   1.0"
      ]
     },
     "execution_count": 57,
     "metadata": {},
     "output_type": "execute_result"
    }
   ],
   "source": [
    "small=df[(df.Size == df.Size.min())]\n",
    "smallr = small[df.Rating >=4.5]\n",
    "smallr[['App', 'Category', 'Installs','Reviews','Rating',\"Size\"]][:2]"
   ]
  },
  {
   "cell_type": "code",
   "execution_count": 58,
   "metadata": {},
   "outputs": [
    {
     "name": "stderr",
     "output_type": "stream",
     "text": [
      "<ipython-input-58-e02af34cae14>:2: UserWarning: Boolean Series key will be reindexed to match DataFrame index.\n",
      "  larger = large[df.Rating >=4.5]\n"
     ]
    },
    {
     "data": {
      "text/html": [
       "<div>\n",
       "<style scoped>\n",
       "    .dataframe tbody tr th:only-of-type {\n",
       "        vertical-align: middle;\n",
       "    }\n",
       "\n",
       "    .dataframe tbody tr th {\n",
       "        vertical-align: top;\n",
       "    }\n",
       "\n",
       "    .dataframe thead th {\n",
       "        text-align: right;\n",
       "    }\n",
       "</style>\n",
       "<table border=\"1\" class=\"dataframe\">\n",
       "  <thead>\n",
       "    <tr style=\"text-align: right;\">\n",
       "      <th></th>\n",
       "      <th>App</th>\n",
       "      <th>Category</th>\n",
       "      <th>Installs</th>\n",
       "      <th>Reviews</th>\n",
       "      <th>Rating</th>\n",
       "      <th>Size</th>\n",
       "    </tr>\n",
       "  </thead>\n",
       "  <tbody>\n",
       "    <tr>\n",
       "      <th>8883</th>\n",
       "      <td>DTPay</td>\n",
       "      <td>SHOPPING</td>\n",
       "      <td>100000.0</td>\n",
       "      <td>18</td>\n",
       "      <td>4.5</td>\n",
       "      <td>994.0</td>\n",
       "    </tr>\n",
       "  </tbody>\n",
       "</table>\n",
       "</div>"
      ],
      "text/plain": [
       "        App  Category  Installs  Reviews  Rating   Size\n",
       "8883  DTPay  SHOPPING  100000.0       18     4.5  994.0"
      ]
     },
     "execution_count": 58,
     "metadata": {},
     "output_type": "execute_result"
    }
   ],
   "source": [
    "large=df[(df.Size == df.Size.max())]\n",
    "larger = large[df.Rating >=4.5]\n",
    "large\n",
    "larger[['App', 'Category', 'Installs','Reviews','Rating',\"Size\"]][:2]"
   ]
  },
  {
   "cell_type": "markdown",
   "metadata": {},
   "source": [
    "# Best app in each category ie educational , family, game,techical etc..."
   ]
  },
  {
   "cell_type": "code",
   "execution_count": 59,
   "metadata": {},
   "outputs": [
    {
     "data": {
      "image/png": "[encoded data removed]",
      "text/plain": [
       "<Figure size 1296x432 with 1 Axes>"
      ]
     },
     "metadata": {
      "needs_background": "light"
     },
     "output_type": "display_data"
    }
   ],
   "source": [
    "df.Category.value_counts().plot(kind=\"bar\",title=\"Apps per category\",figsize= (18,6),color=[\"Red\",\"green\",\"blue\",\"yellow\",\"brown\",\"pink\"])\n",
    "plt.ylabel(\"Values\")\n",
    "plt.xlabel(\"Category\")\n",
    "plt.show()"
   ]
  },
  {
   "cell_type": "code",
   "execution_count": 60,
   "metadata": {},
   "outputs": [
    {
     "name": "stderr",
     "output_type": "stream",
     "text": [
      "<ipython-input-60-b69a7d02dbde>:2: UserWarning: Boolean Series key will be reindexed to match DataFrame index.\n",
      "  family[(df.Rating ==5) & (df.Installs>=10000)][:5]\n"
     ]
    },
    {
     "data": {
      "text/html": [
       "<div>\n",
       "<style scoped>\n",
       "    .dataframe tbody tr th:only-of-type {\n",
       "        vertical-align: middle;\n",
       "    }\n",
       "\n",
       "    .dataframe tbody tr th {\n",
       "        vertical-align: top;\n",
       "    }\n",
       "\n",
       "    .dataframe thead th {\n",
       "        text-align: right;\n",
       "    }\n",
       "</style>\n",
       "<table border=\"1\" class=\"dataframe\">\n",
       "  <thead>\n",
       "    <tr style=\"text-align: right;\">\n",
       "      <th></th>\n",
       "      <th>App</th>\n",
       "      <th>Category</th>\n",
       "      <th>Rating</th>\n",
       "      <th>Reviews</th>\n",
       "      <th>Size</th>\n",
       "      <th>Installs</th>\n",
       "      <th>Type</th>\n",
       "      <th>Price</th>\n",
       "      <th>Content Rating</th>\n",
       "      <th>Genres</th>\n",
       "      <th>Last Updated</th>\n",
       "      <th>Current Ver</th>\n",
       "      <th>Android Ver</th>\n",
       "    </tr>\n",
       "  </thead>\n",
       "  <tbody>\n",
       "    <tr>\n",
       "      <th>5450</th>\n",
       "      <td>AP® Guide</td>\n",
       "      <td>FAMILY</td>\n",
       "      <td>5.0</td>\n",
       "      <td>3</td>\n",
       "      <td>2.1</td>\n",
       "      <td>100000.0</td>\n",
       "      <td>0</td>\n",
       "      <td>0.0</td>\n",
       "      <td>Everyone</td>\n",
       "      <td>Education</td>\n",
       "      <td>2017-07-31</td>\n",
       "      <td>489</td>\n",
       "      <td>4.0</td>\n",
       "    </tr>\n",
       "    <tr>\n",
       "      <th>5507</th>\n",
       "      <td>Accounting Quiz (AQ) Malaysia</td>\n",
       "      <td>FAMILY</td>\n",
       "      <td>5.0</td>\n",
       "      <td>25</td>\n",
       "      <td>NaN</td>\n",
       "      <td>100000.0</td>\n",
       "      <td>0</td>\n",
       "      <td>0.0</td>\n",
       "      <td>Everyone</td>\n",
       "      <td>Education</td>\n",
       "      <td>2018-01-29</td>\n",
       "      <td>2582</td>\n",
       "      <td>4.0</td>\n",
       "    </tr>\n",
       "    <tr>\n",
       "      <th>5852</th>\n",
       "      <td>Quran Khmer Offline AY</td>\n",
       "      <td>FAMILY</td>\n",
       "      <td>5.0</td>\n",
       "      <td>41</td>\n",
       "      <td>4.0</td>\n",
       "      <td>100000.0</td>\n",
       "      <td>0</td>\n",
       "      <td>0.0</td>\n",
       "      <td>Everyone</td>\n",
       "      <td>Education</td>\n",
       "      <td>2017-12-13</td>\n",
       "      <td>816</td>\n",
       "      <td>4.0</td>\n",
       "    </tr>\n",
       "    <tr>\n",
       "      <th>6467</th>\n",
       "      <td>BM SPM Practice</td>\n",
       "      <td>FAMILY</td>\n",
       "      <td>5.0</td>\n",
       "      <td>6</td>\n",
       "      <td>9.2</td>\n",
       "      <td>100000.0</td>\n",
       "      <td>0</td>\n",
       "      <td>0.0</td>\n",
       "      <td>Everyone</td>\n",
       "      <td>Education</td>\n",
       "      <td>2018-01-24</td>\n",
       "      <td>103</td>\n",
       "      <td>4.0</td>\n",
       "    </tr>\n",
       "    <tr>\n",
       "      <th>6823</th>\n",
       "      <td>Barisal University App-BU Face</td>\n",
       "      <td>FAMILY</td>\n",
       "      <td>5.0</td>\n",
       "      <td>100</td>\n",
       "      <td>10.0</td>\n",
       "      <td>100000.0</td>\n",
       "      <td>0</td>\n",
       "      <td>0.0</td>\n",
       "      <td>Everyone</td>\n",
       "      <td>Education</td>\n",
       "      <td>2018-05-06</td>\n",
       "      <td>1490</td>\n",
       "      <td>4.0</td>\n",
       "    </tr>\n",
       "  </tbody>\n",
       "</table>\n",
       "</div>"
      ],
      "text/plain": [
       "                                 App Category  Rating  Reviews  Size  \\\n",
       "5450                       AP® Guide   FAMILY     5.0        3   2.1   \n",
       "5507   Accounting Quiz (AQ) Malaysia   FAMILY     5.0       25   NaN   \n",
       "5852          Quran Khmer Offline AY   FAMILY     5.0       41   4.0   \n",
       "6467                 BM SPM Practice   FAMILY     5.0        6   9.2   \n",
       "6823  Barisal University App-BU Face   FAMILY     5.0      100  10.0   \n",
       "\n",
       "      Installs  Type  Price Content Rating     Genres Last Updated  \\\n",
       "5450  100000.0     0    0.0       Everyone  Education   2017-07-31   \n",
       "5507  100000.0     0    0.0       Everyone  Education   2018-01-29   \n",
       "5852  100000.0     0    0.0       Everyone  Education   2017-12-13   \n",
       "6467  100000.0     0    0.0       Everyone  Education   2018-01-24   \n",
       "6823  100000.0     0    0.0       Everyone  Education   2018-05-06   \n",
       "\n",
       "      Current Ver  Android Ver  \n",
       "5450          489          4.0  \n",
       "5507         2582          4.0  \n",
       "5852          816          4.0  \n",
       "6467          103          4.0  \n",
       "6823         1490          4.0  "
      ]
     },
     "execution_count": 60,
     "metadata": {},
     "output_type": "execute_result"
    }
   ],
   "source": [
    "family=df[df[\"Category\"]==\"FAMILY\"]\n",
    "family[(df.Rating ==5) & (df.Installs>=10000)][:5]"
   ]
  },
  {
   "cell_type": "code",
   "execution_count": 61,
   "metadata": {},
   "outputs": [
    {
     "name": "stderr",
     "output_type": "stream",
     "text": [
      "<ipython-input-61-d9c4492fa1ff>:2: UserWarning: Boolean Series key will be reindexed to match DataFrame index.\n",
      "  games[(df.Rating >=4.9) & (df.Installs>=10000) & (df.Price==0)]\n"
     ]
    },
    {
     "data": {
      "text/html": [
       "<div>\n",
       "<style scoped>\n",
       "    .dataframe tbody tr th:only-of-type {\n",
       "        vertical-align: middle;\n",
       "    }\n",
       "\n",
       "    .dataframe tbody tr th {\n",
       "        vertical-align: top;\n",
       "    }\n",
       "\n",
       "    .dataframe thead th {\n",
       "        text-align: right;\n",
       "    }\n",
       "</style>\n",
       "<table border=\"1\" class=\"dataframe\">\n",
       "  <thead>\n",
       "    <tr style=\"text-align: right;\">\n",
       "      <th></th>\n",
       "      <th>App</th>\n",
       "      <th>Category</th>\n",
       "      <th>Rating</th>\n",
       "      <th>Reviews</th>\n",
       "      <th>Size</th>\n",
       "      <th>Installs</th>\n",
       "      <th>Type</th>\n",
       "      <th>Price</th>\n",
       "      <th>Content Rating</th>\n",
       "      <th>Genres</th>\n",
       "      <th>Last Updated</th>\n",
       "      <th>Current Ver</th>\n",
       "      <th>Android Ver</th>\n",
       "    </tr>\n",
       "  </thead>\n",
       "  <tbody>\n",
       "    <tr>\n",
       "      <th>4975</th>\n",
       "      <td>Solitaire: Decked Out Ad Free</td>\n",
       "      <td>GAME</td>\n",
       "      <td>4.9</td>\n",
       "      <td>37302</td>\n",
       "      <td>35.0</td>\n",
       "      <td>50000000.0</td>\n",
       "      <td>0</td>\n",
       "      <td>0.0</td>\n",
       "      <td>Everyone</td>\n",
       "      <td>Card</td>\n",
       "      <td>2017-05-08</td>\n",
       "      <td>508</td>\n",
       "      <td>4.0</td>\n",
       "    </tr>\n",
       "  </tbody>\n",
       "</table>\n",
       "</div>"
      ],
      "text/plain": [
       "                                App Category  Rating  Reviews  Size  \\\n",
       "4975  Solitaire: Decked Out Ad Free     GAME     4.9    37302  35.0   \n",
       "\n",
       "        Installs  Type  Price Content Rating Genres Last Updated  Current Ver  \\\n",
       "4975  50000000.0     0    0.0       Everyone   Card   2017-05-08          508   \n",
       "\n",
       "      Android Ver  \n",
       "4975          4.0  "
      ]
     },
     "execution_count": 61,
     "metadata": {},
     "output_type": "execute_result"
    }
   ],
   "source": [
    "games=df[df[\"Category\"]==\"GAME\"]\n",
    "games[(df.Rating >=4.9) & (df.Installs>=10000) & (df.Price==0)]"
   ]
  },
  {
   "cell_type": "code",
   "execution_count": 62,
   "metadata": {},
   "outputs": [
    {
     "name": "stderr",
     "output_type": "stream",
     "text": [
      "<ipython-input-62-4c56d9fde3d3>:2: UserWarning: Boolean Series key will be reindexed to match DataFrame index.\n",
      "  communication[(df.Rating >=4.8) & (df.Installs>=10000) & (df.Price==0) & (df[\"Android Ver\"]==5)]\n"
     ]
    },
    {
     "data": {
      "text/html": [
       "<div>\n",
       "<style scoped>\n",
       "    .dataframe tbody tr th:only-of-type {\n",
       "        vertical-align: middle;\n",
       "    }\n",
       "\n",
       "    .dataframe tbody tr th {\n",
       "        vertical-align: top;\n",
       "    }\n",
       "\n",
       "    .dataframe thead th {\n",
       "        text-align: right;\n",
       "    }\n",
       "</style>\n",
       "<table border=\"1\" class=\"dataframe\">\n",
       "  <thead>\n",
       "    <tr style=\"text-align: right;\">\n",
       "      <th></th>\n",
       "      <th>App</th>\n",
       "      <th>Category</th>\n",
       "      <th>Rating</th>\n",
       "      <th>Reviews</th>\n",
       "      <th>Size</th>\n",
       "      <th>Installs</th>\n",
       "      <th>Type</th>\n",
       "      <th>Price</th>\n",
       "      <th>Content Rating</th>\n",
       "      <th>Genres</th>\n",
       "      <th>Last Updated</th>\n",
       "      <th>Current Ver</th>\n",
       "      <th>Android Ver</th>\n",
       "    </tr>\n",
       "  </thead>\n",
       "  <tbody>\n",
       "    <tr>\n",
       "      <th>7704</th>\n",
       "      <td>ClanPlay: Community and Tools for Gamers</td>\n",
       "      <td>COMMUNICATION</td>\n",
       "      <td>4.8</td>\n",
       "      <td>34443</td>\n",
       "      <td>27.0</td>\n",
       "      <td>1.000000e+09</td>\n",
       "      <td>0</td>\n",
       "      <td>0.0</td>\n",
       "      <td>Teen</td>\n",
       "      <td>Communication</td>\n",
       "      <td>2018-06-28</td>\n",
       "      <td>352</td>\n",
       "      <td>5.0</td>\n",
       "    </tr>\n",
       "  </tbody>\n",
       "</table>\n",
       "</div>"
      ],
      "text/plain": [
       "                                           App       Category  Rating  \\\n",
       "7704  ClanPlay: Community and Tools for Gamers  COMMUNICATION     4.8   \n",
       "\n",
       "      Reviews  Size      Installs  Type  Price Content Rating         Genres  \\\n",
       "7704    34443  27.0  1.000000e+09     0    0.0           Teen  Communication   \n",
       "\n",
       "     Last Updated  Current Ver  Android Ver  \n",
       "7704   2018-06-28          352          5.0  "
      ]
     },
     "execution_count": 62,
     "metadata": {},
     "output_type": "execute_result"
    }
   ],
   "source": [
    "communication=df[df[\"Category\"]==\"COMMUNICATION\"]\n",
    "communication[(df.Rating >=4.8) & (df.Installs>=10000) & (df.Price==0) & (df[\"Android Ver\"]==5)]"
   ]
  },
  {
   "cell_type": "code",
   "execution_count": 63,
   "metadata": {},
   "outputs": [
    {
     "name": "stderr",
     "output_type": "stream",
     "text": [
      "<ipython-input-63-b7bf5369affc>:2: UserWarning: Boolean Series key will be reindexed to match DataFrame index.\n",
      "  tools[(df.Rating >=4.8) & (df.Installs>=10000) & (df.Price==0) & (df[\"Android Ver\"]==5)]\n"
     ]
    },
    {
     "data": {
      "text/html": [
       "<div>\n",
       "<style scoped>\n",
       "    .dataframe tbody tr th:only-of-type {\n",
       "        vertical-align: middle;\n",
       "    }\n",
       "\n",
       "    .dataframe tbody tr th {\n",
       "        vertical-align: top;\n",
       "    }\n",
       "\n",
       "    .dataframe thead th {\n",
       "        text-align: right;\n",
       "    }\n",
       "</style>\n",
       "<table border=\"1\" class=\"dataframe\">\n",
       "  <thead>\n",
       "    <tr style=\"text-align: right;\">\n",
       "      <th></th>\n",
       "      <th>App</th>\n",
       "      <th>Category</th>\n",
       "      <th>Rating</th>\n",
       "      <th>Reviews</th>\n",
       "      <th>Size</th>\n",
       "      <th>Installs</th>\n",
       "      <th>Type</th>\n",
       "      <th>Price</th>\n",
       "      <th>Content Rating</th>\n",
       "      <th>Genres</th>\n",
       "      <th>Last Updated</th>\n",
       "      <th>Current Ver</th>\n",
       "      <th>Android Ver</th>\n",
       "    </tr>\n",
       "  </thead>\n",
       "  <tbody>\n",
       "    <tr>\n",
       "      <th>7708</th>\n",
       "      <td>Calcy IV</td>\n",
       "      <td>TOOLS</td>\n",
       "      <td>4.8</td>\n",
       "      <td>36557</td>\n",
       "      <td>14.0</td>\n",
       "      <td>1.000000e+09</td>\n",
       "      <td>0</td>\n",
       "      <td>0.0</td>\n",
       "      <td>Everyone</td>\n",
       "      <td>Tools</td>\n",
       "      <td>2018-08-03</td>\n",
       "      <td>1280</td>\n",
       "      <td>5.0</td>\n",
       "    </tr>\n",
       "  </tbody>\n",
       "</table>\n",
       "</div>"
      ],
      "text/plain": [
       "           App Category  Rating  Reviews  Size      Installs  Type  Price  \\\n",
       "7708  Calcy IV    TOOLS     4.8    36557  14.0  1.000000e+09     0    0.0   \n",
       "\n",
       "     Content Rating Genres Last Updated  Current Ver  Android Ver  \n",
       "7708       Everyone  Tools   2018-08-03         1280          5.0  "
      ]
     },
     "execution_count": 63,
     "metadata": {},
     "output_type": "execute_result"
    }
   ],
   "source": [
    "tools=df[df[\"Category\"]==\"TOOLS\"]\n",
    "tools[(df.Rating >=4.8) & (df.Installs>=10000) & (df.Price==0) & (df[\"Android Ver\"]==5)]"
   ]
  },
  {
   "cell_type": "code",
   "execution_count": 64,
   "metadata": {},
   "outputs": [
    {
     "name": "stderr",
     "output_type": "stream",
     "text": [
      "<ipython-input-64-eefe13d81f59>:2: UserWarning: Boolean Series key will be reindexed to match DataFrame index.\n",
      "  education[(df.Rating >=4.9) & (df.Installs>=10000) & (df.Price==0)]\n"
     ]
    },
    {
     "data": {
      "text/html": [
       "<div>\n",
       "<style scoped>\n",
       "    .dataframe tbody tr th:only-of-type {\n",
       "        vertical-align: middle;\n",
       "    }\n",
       "\n",
       "    .dataframe tbody tr th {\n",
       "        vertical-align: top;\n",
       "    }\n",
       "\n",
       "    .dataframe thead th {\n",
       "        text-align: right;\n",
       "    }\n",
       "</style>\n",
       "<table border=\"1\" class=\"dataframe\">\n",
       "  <thead>\n",
       "    <tr style=\"text-align: right;\">\n",
       "      <th></th>\n",
       "      <th>App</th>\n",
       "      <th>Category</th>\n",
       "      <th>Rating</th>\n",
       "      <th>Reviews</th>\n",
       "      <th>Size</th>\n",
       "      <th>Installs</th>\n",
       "      <th>Type</th>\n",
       "      <th>Price</th>\n",
       "      <th>Content Rating</th>\n",
       "      <th>Genres</th>\n",
       "      <th>Last Updated</th>\n",
       "      <th>Current Ver</th>\n",
       "      <th>Android Ver</th>\n",
       "    </tr>\n",
       "  </thead>\n",
       "  <tbody>\n",
       "    <tr>\n",
       "      <th>712</th>\n",
       "      <td>Learn Japanese, Korean, Chinese Offline &amp; Free</td>\n",
       "      <td>EDUCATION</td>\n",
       "      <td>4.9</td>\n",
       "      <td>133136</td>\n",
       "      <td>26.0</td>\n",
       "      <td>1.000000e+09</td>\n",
       "      <td>0</td>\n",
       "      <td>0.0</td>\n",
       "      <td>Everyone</td>\n",
       "      <td>Education;Education</td>\n",
       "      <td>2018-07-20</td>\n",
       "      <td>1097</td>\n",
       "      <td>4.0</td>\n",
       "    </tr>\n",
       "  </tbody>\n",
       "</table>\n",
       "</div>"
      ],
      "text/plain": [
       "                                                App   Category  Rating  \\\n",
       "712  Learn Japanese, Korean, Chinese Offline & Free  EDUCATION     4.9   \n",
       "\n",
       "     Reviews  Size      Installs  Type  Price Content Rating  \\\n",
       "712   133136  26.0  1.000000e+09     0    0.0       Everyone   \n",
       "\n",
       "                  Genres Last Updated  Current Ver  Android Ver  \n",
       "712  Education;Education   2018-07-20         1097          4.0  "
      ]
     },
     "execution_count": 64,
     "metadata": {},
     "output_type": "execute_result"
    }
   ],
   "source": [
    "education=df[df[\"Category\"]==\"EDUCATION\"]\n",
    "education[(df.Rating >=4.9) & (df.Installs>=10000) & (df.Price==0)]"
   ]
  },
  {
   "cell_type": "markdown",
   "metadata": {},
   "source": [
    "# Android version"
   ]
  },
  {
   "cell_type": "markdown",
   "metadata": {},
   "source": [
    "# how many android version in this data set"
   ]
  },
  {
   "cell_type": "code",
   "execution_count": 65,
   "metadata": {},
   "outputs": [
    {
     "data": {
      "image/png": "[encoded data removed]",
      "text/plain": [
       "<Figure size 432x288 with 1 Axes>"
      ]
     },
     "metadata": {
      "needs_background": "light"
     },
     "output_type": "display_data"
    },
    {
     "data": {
      "text/plain": [
       "4.0    5856\n",
       "0.0    1319\n",
       "2.0    1177\n",
       "5.0     556\n",
       "3.0     250\n",
       "1.0     104\n",
       "6.0      48\n",
       "7.0      45\n",
       "8.0       5\n",
       "Name: Android Ver, dtype: int64"
      ]
     },
     "execution_count": 65,
     "metadata": {},
     "output_type": "execute_result"
    }
   ],
   "source": [
    "ver=df[\"Android Ver\"].value_counts()\n",
    "ver.plot(kind=\"bar\",title=\"Android versions\",xlabel=\"Version\",ylabel=\"values\",color=[\"red\",\"green\",\"yellow\"])\n",
    "plt.show()\n",
    "ver\n"
   ]
  },
  {
   "cell_type": "code",
   "execution_count": 66,
   "metadata": {},
   "outputs": [
    {
     "data": {
      "text/plain": [
       "<AxesSubplot:>"
      ]
     },
     "execution_count": 66,
     "metadata": {},
     "output_type": "execute_result"
    },
    {
     "data": {
      "image/png": "[encoded data removed]",
      "text/plain": [
       "<Figure size 432x288 with 1 Axes>"
      ]
     },
     "metadata": {
      "needs_background": "light"
     },
     "output_type": "display_data"
    }
   ],
   "source": [
    "df[\"Android Ver\"].hist()"
   ]
  },
  {
   "cell_type": "raw",
   "metadata": {},
   "source": [
    "# Most of the Apps in play store supports android version 4.0"
   ]
  },
  {
   "cell_type": "markdown",
   "metadata": {},
   "source": [
    "# Apps support latest Android version."
   ]
  },
  {
   "cell_type": "code",
   "execution_count": 67,
   "metadata": {},
   "outputs": [
    {
     "data": {
      "text/html": [
       "<div>\n",
       "<style scoped>\n",
       "    .dataframe tbody tr th:only-of-type {\n",
       "        vertical-align: middle;\n",
       "    }\n",
       "\n",
       "    .dataframe tbody tr th {\n",
       "        vertical-align: top;\n",
       "    }\n",
       "\n",
       "    .dataframe thead th {\n",
       "        text-align: right;\n",
       "    }\n",
       "</style>\n",
       "<table border=\"1\" class=\"dataframe\">\n",
       "  <thead>\n",
       "    <tr style=\"text-align: right;\">\n",
       "      <th></th>\n",
       "      <th>App</th>\n",
       "      <th>Category</th>\n",
       "      <th>Rating</th>\n",
       "      <th>Reviews</th>\n",
       "      <th>Size</th>\n",
       "      <th>Installs</th>\n",
       "      <th>Type</th>\n",
       "      <th>Price</th>\n",
       "      <th>Content Rating</th>\n",
       "      <th>Genres</th>\n",
       "      <th>Last Updated</th>\n",
       "      <th>Current Ver</th>\n",
       "      <th>Android Ver</th>\n",
       "    </tr>\n",
       "  </thead>\n",
       "  <tbody>\n",
       "    <tr>\n",
       "      <th>2484</th>\n",
       "      <td>Clinic Doctor EHr</td>\n",
       "      <td>MEDICAL</td>\n",
       "      <td>5.0</td>\n",
       "      <td>2</td>\n",
       "      <td>7.1</td>\n",
       "      <td>5.000000e+01</td>\n",
       "      <td>0</td>\n",
       "      <td>0.00</td>\n",
       "      <td>Everyone</td>\n",
       "      <td>Medical</td>\n",
       "      <td>2018-08-03</td>\n",
       "      <td>187</td>\n",
       "      <td>8.0</td>\n",
       "    </tr>\n",
       "    <tr>\n",
       "      <th>3240</th>\n",
       "      <td>Moto Suggestions ™</td>\n",
       "      <td>TOOLS</td>\n",
       "      <td>4.6</td>\n",
       "      <td>308</td>\n",
       "      <td>4.3</td>\n",
       "      <td>1.000000e+09</td>\n",
       "      <td>0</td>\n",
       "      <td>0.00</td>\n",
       "      <td>Everyone</td>\n",
       "      <td>Tools</td>\n",
       "      <td>2018-06-08</td>\n",
       "      <td>38</td>\n",
       "      <td>8.0</td>\n",
       "    </tr>\n",
       "    <tr>\n",
       "      <th>3275</th>\n",
       "      <td>Google Assistant Go</td>\n",
       "      <td>TOOLS</td>\n",
       "      <td>3.7</td>\n",
       "      <td>315</td>\n",
       "      <td>4.6</td>\n",
       "      <td>5.000000e+07</td>\n",
       "      <td>0</td>\n",
       "      <td>0.00</td>\n",
       "      <td>Everyone</td>\n",
       "      <td>Tools</td>\n",
       "      <td>2018-07-27</td>\n",
       "      <td>726</td>\n",
       "      <td>8.0</td>\n",
       "    </tr>\n",
       "    <tr>\n",
       "      <th>4460</th>\n",
       "      <td>Theme Android P for LG G7 &amp; V35</td>\n",
       "      <td>PERSONALIZATION</td>\n",
       "      <td>4.6</td>\n",
       "      <td>5</td>\n",
       "      <td>4.5</td>\n",
       "      <td>1.000000e+03</td>\n",
       "      <td>1</td>\n",
       "      <td>1.49</td>\n",
       "      <td>Everyone</td>\n",
       "      <td>Personalization</td>\n",
       "      <td>2018-07-07</td>\n",
       "      <td>250</td>\n",
       "      <td>8.0</td>\n",
       "    </tr>\n",
       "    <tr>\n",
       "      <th>6582</th>\n",
       "      <td>My BP Lab</td>\n",
       "      <td>HEALTH_AND_FITNESS</td>\n",
       "      <td>2.6</td>\n",
       "      <td>186</td>\n",
       "      <td>25.0</td>\n",
       "      <td>1.000000e+06</td>\n",
       "      <td>0</td>\n",
       "      <td>0.00</td>\n",
       "      <td>Everyone</td>\n",
       "      <td>Health &amp; Fitness</td>\n",
       "      <td>2018-05-19</td>\n",
       "      <td>252</td>\n",
       "      <td>8.0</td>\n",
       "    </tr>\n",
       "  </tbody>\n",
       "</table>\n",
       "</div>"
      ],
      "text/plain": [
       "                                  App            Category  Rating  Reviews  \\\n",
       "2484                Clinic Doctor EHr             MEDICAL     5.0        2   \n",
       "3240               Moto Suggestions ™               TOOLS     4.6      308   \n",
       "3275              Google Assistant Go               TOOLS     3.7      315   \n",
       "4460  Theme Android P for LG G7 & V35     PERSONALIZATION     4.6        5   \n",
       "6582                        My BP Lab  HEALTH_AND_FITNESS     2.6      186   \n",
       "\n",
       "      Size      Installs  Type  Price Content Rating            Genres  \\\n",
       "2484   7.1  5.000000e+01     0   0.00       Everyone           Medical   \n",
       "3240   4.3  1.000000e+09     0   0.00       Everyone             Tools   \n",
       "3275   4.6  5.000000e+07     0   0.00       Everyone             Tools   \n",
       "4460   4.5  1.000000e+03     1   1.49       Everyone   Personalization   \n",
       "6582  25.0  1.000000e+06     0   0.00       Everyone  Health & Fitness   \n",
       "\n",
       "     Last Updated  Current Ver  Android Ver  \n",
       "2484   2018-08-03          187          8.0  \n",
       "3240   2018-06-08           38          8.0  \n",
       "3275   2018-07-27          726          8.0  \n",
       "4460   2018-07-07          250          8.0  \n",
       "6582   2018-05-19          252          8.0  "
      ]
     },
     "execution_count": 67,
     "metadata": {},
     "output_type": "execute_result"
    }
   ],
   "source": [
    "df[df[\"Android Ver\"]==8.0]"
   ]
  },
  {
   "cell_type": "markdown",
   "metadata": {},
   "source": [
    "# Correlation:Feature Selection"
   ]
  },
  {
   "cell_type": "code",
   "execution_count": 68,
   "metadata": {},
   "outputs": [
    {
     "data": {
      "text/plain": [
       "App                       object\n",
       "Category                  object\n",
       "Rating                   float64\n",
       "Reviews                    int64\n",
       "Size                     float64\n",
       "Installs                 float64\n",
       "Type                       int32\n",
       "Price                    float64\n",
       "Content Rating            object\n",
       "Genres                    object\n",
       "Last Updated      datetime64[ns]\n",
       "Current Ver                int32\n",
       "Android Ver              float64\n",
       "dtype: object"
      ]
     },
     "execution_count": 68,
     "metadata": {},
     "output_type": "execute_result"
    }
   ],
   "source": [
    "df.dtypes"
   ]
  },
  {
   "cell_type": "code",
   "execution_count": 69,
   "metadata": {},
   "outputs": [
    {
     "data": {
      "text/html": [
       "<div>\n",
       "<style scoped>\n",
       "    .dataframe tbody tr th:only-of-type {\n",
       "        vertical-align: middle;\n",
       "    }\n",
       "\n",
       "    .dataframe tbody tr th {\n",
       "        vertical-align: top;\n",
       "    }\n",
       "\n",
       "    .dataframe thead th {\n",
       "        text-align: right;\n",
       "    }\n",
       "</style>\n",
       "<table border=\"1\" class=\"dataframe\">\n",
       "  <thead>\n",
       "    <tr style=\"text-align: right;\">\n",
       "      <th></th>\n",
       "      <th>Rating</th>\n",
       "      <th>Reviews</th>\n",
       "      <th>Size</th>\n",
       "      <th>Installs</th>\n",
       "      <th>Type</th>\n",
       "      <th>Price</th>\n",
       "      <th>Current Ver</th>\n",
       "      <th>Android Ver</th>\n",
       "    </tr>\n",
       "  </thead>\n",
       "  <tbody>\n",
       "    <tr>\n",
       "      <th>Rating</th>\n",
       "      <td>1.000000</td>\n",
       "      <td>0.068133</td>\n",
       "      <td>-0.018903</td>\n",
       "      <td>0.015176</td>\n",
       "      <td>0.039592</td>\n",
       "      <td>-0.021919</td>\n",
       "      <td>0.051062</td>\n",
       "      <td>-0.026320</td>\n",
       "    </tr>\n",
       "    <tr>\n",
       "      <th>Reviews</th>\n",
       "      <td>0.068133</td>\n",
       "      <td>1.000000</td>\n",
       "      <td>0.036540</td>\n",
       "      <td>0.544768</td>\n",
       "      <td>-0.043244</td>\n",
       "      <td>-0.009824</td>\n",
       "      <td>0.112248</td>\n",
       "      <td>-0.121344</td>\n",
       "    </tr>\n",
       "    <tr>\n",
       "      <th>Size</th>\n",
       "      <td>-0.018903</td>\n",
       "      <td>0.036540</td>\n",
       "      <td>1.000000</td>\n",
       "      <td>0.006957</td>\n",
       "      <td>0.048790</td>\n",
       "      <td>0.018480</td>\n",
       "      <td>-0.055556</td>\n",
       "      <td>-0.154017</td>\n",
       "    </tr>\n",
       "    <tr>\n",
       "      <th>Installs</th>\n",
       "      <td>0.015176</td>\n",
       "      <td>0.544768</td>\n",
       "      <td>0.006957</td>\n",
       "      <td>1.000000</td>\n",
       "      <td>-0.025480</td>\n",
       "      <td>-0.005696</td>\n",
       "      <td>0.106995</td>\n",
       "      <td>-0.137418</td>\n",
       "    </tr>\n",
       "    <tr>\n",
       "      <th>Type</th>\n",
       "      <td>0.039592</td>\n",
       "      <td>-0.043244</td>\n",
       "      <td>0.048790</td>\n",
       "      <td>-0.025480</td>\n",
       "      <td>1.000000</td>\n",
       "      <td>0.223344</td>\n",
       "      <td>-0.078753</td>\n",
       "      <td>-0.023199</td>\n",
       "    </tr>\n",
       "    <tr>\n",
       "      <th>Price</th>\n",
       "      <td>-0.021919</td>\n",
       "      <td>-0.009824</td>\n",
       "      <td>0.018480</td>\n",
       "      <td>-0.005696</td>\n",
       "      <td>0.223344</td>\n",
       "      <td>1.000000</td>\n",
       "      <td>-0.038008</td>\n",
       "      <td>0.020120</td>\n",
       "    </tr>\n",
       "    <tr>\n",
       "      <th>Current Ver</th>\n",
       "      <td>0.051062</td>\n",
       "      <td>0.112248</td>\n",
       "      <td>-0.055556</td>\n",
       "      <td>0.106995</td>\n",
       "      <td>-0.078753</td>\n",
       "      <td>-0.038008</td>\n",
       "      <td>1.000000</td>\n",
       "      <td>-0.416178</td>\n",
       "    </tr>\n",
       "    <tr>\n",
       "      <th>Android Ver</th>\n",
       "      <td>-0.026320</td>\n",
       "      <td>-0.121344</td>\n",
       "      <td>-0.154017</td>\n",
       "      <td>-0.137418</td>\n",
       "      <td>-0.023199</td>\n",
       "      <td>0.020120</td>\n",
       "      <td>-0.416178</td>\n",
       "      <td>1.000000</td>\n",
       "    </tr>\n",
       "  </tbody>\n",
       "</table>\n",
       "</div>"
      ],
      "text/plain": [
       "               Rating   Reviews      Size  Installs      Type     Price  \\\n",
       "Rating       1.000000  0.068133 -0.018903  0.015176  0.039592 -0.021919   \n",
       "Reviews      0.068133  1.000000  0.036540  0.544768 -0.043244 -0.009824   \n",
       "Size        -0.018903  0.036540  1.000000  0.006957  0.048790  0.018480   \n",
       "Installs     0.015176  0.544768  0.006957  1.000000 -0.025480 -0.005696   \n",
       "Type         0.039592 -0.043244  0.048790 -0.025480  1.000000  0.223344   \n",
       "Price       -0.021919 -0.009824  0.018480 -0.005696  0.223344  1.000000   \n",
       "Current Ver  0.051062  0.112248 -0.055556  0.106995 -0.078753 -0.038008   \n",
       "Android Ver -0.026320 -0.121344 -0.154017 -0.137418 -0.023199  0.020120   \n",
       "\n",
       "             Current Ver  Android Ver  \n",
       "Rating          0.051062    -0.026320  \n",
       "Reviews         0.112248    -0.121344  \n",
       "Size           -0.055556    -0.154017  \n",
       "Installs        0.106995    -0.137418  \n",
       "Type           -0.078753    -0.023199  \n",
       "Price          -0.038008     0.020120  \n",
       "Current Ver     1.000000    -0.416178  \n",
       "Android Ver    -0.416178     1.000000  "
      ]
     },
     "execution_count": 69,
     "metadata": {},
     "output_type": "execute_result"
    }
   ],
   "source": [
    "df.corr()"
   ]
  },
  {
   "cell_type": "code",
   "execution_count": 70,
   "metadata": {},
   "outputs": [],
   "source": [
    "feature=df.iloc[:,2:8]\n",
    "target=df[\"Installs\"]"
   ]
  },
  {
   "cell_type": "code",
   "execution_count": 71,
   "metadata": {},
   "outputs": [
    {
     "data": {
      "image/png": "[encoded data removed]",
      "text/plain": [
       "<Figure size 576x360 with 2 Axes>"
      ]
     },
     "metadata": {
      "needs_background": "light"
     },
     "output_type": "display_data"
    }
   ],
   "source": [
    "plt.figure(figsize=(8,5))\n",
    "sns.heatmap(feature.corr(),annot=True,cmap=plt.cm.CMRmap_r)\n",
    "plt.show()"
   ]
  },
  {
   "cell_type": "raw",
   "metadata": {},
   "source": [
    "# No. of Installs is dependent on the Reviews"
   ]
  },
  {
   "cell_type": "markdown",
   "metadata": {},
   "source": [
    "# Top Apps based on Rating 5 & maximum installs."
   ]
  },
  {
   "cell_type": "code",
   "execution_count": 72,
   "metadata": {},
   "outputs": [],
   "source": [
    "df.drop_duplicates('App',inplace=True)"
   ]
  },
  {
   "cell_type": "code",
   "execution_count": 73,
   "metadata": {},
   "outputs": [
    {
     "data": {
      "image/png": "[encoded data removed]",
      "text/plain": [
       "<Figure size 432x288 with 1 Axes>"
      ]
     },
     "metadata": {
      "needs_background": "light"
     },
     "output_type": "display_data"
    }
   ],
   "source": [
    "maxi=df[(df.Installs == df.Installs.max()) & (df[\"Rating\"]>=4.5)].App.value_counts()\n",
    "maxi.plot(kind=\"bar\",title=\"Top Apps\",color=[\"Red\",\"green\"])\n",
    "plt.xlabel(\"Apps\")\n",
    "plt.ylabel(\"Value\")\n",
    "plt.xticks(rotation=45)\n",
    "plt.show()"
   ]
  },
  {
   "cell_type": "raw",
   "metadata": {},
   "source": [
    "# Instagram, Google photos & Subway Surfers are the top 3 popular apps based on rating & installition"
   ]
  },
  {
   "cell_type": "markdown",
   "metadata": {},
   "source": [
    "# Conclusions\n",
    "- After analysing the dataset, we clearly seen that most of the apps are from “Family” & “Game” Category.\n",
    "- 93.1% of the apps are free in the Google Play Store.\n",
    "- Costly App is from the Life Style Category with the price of $400.\n",
    "- 246 Apps having full rating with free installation & 28 Apps having full rating with paid installation. \n",
    "- Total of 274 apps having full rating.\n",
    "- 1369 free apps have more than 10 billion downloads & only 2 paid apps have more than 10      billion downloads. \n",
    "- Maximum Average, rating apps are under ‘Family’ & ‘Life style’ Category.\n",
    "- The ‘Communication’ Category have maximum average Reviews & Installs.\n",
    "- In Google play store, latest updates are done for 319 Apps.\n",
    "- Most Famous Apps like Facebook, Instagram, Google photos & Subway Surfers are the most Rated, Reviewed & Installed Apps.\n",
    "- Most of the apps having above 4.0 rating.\n",
    "- Installs and reviews have the strongest positive correlation. So, the popularity of an app depends on installs & review. \n",
    "\n"
   ]
  },
  {
   "cell_type": "markdown",
   "metadata": {},
   "source": [
    "# Future Scope\n",
    "The google play store dataset analysis is more helpful for developers. Which category of the apps should be built to keep the google play store popular in the future.\n"
   ]
  }
 ],
 "metadata": {
  "kernelspec": {
   "display_name": "Python 3",
   "language": "python",
   "name": "python3"
  },
  "language_info": {
   "codemirror_mode": {
    "name": "ipython",
    "version": 3
   },
   "file_extension": ".py",
   "mimetype": "text/x-python",
   "name": "python",
   "nbconvert_exporter": "python",
   "pygments_lexer": "ipython3",
   "version": "3.8.5"
  }
 },
 "nbformat": 4,
 "nbformat_minor": 4
}
